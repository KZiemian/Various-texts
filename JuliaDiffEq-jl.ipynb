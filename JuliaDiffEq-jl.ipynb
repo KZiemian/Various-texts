{
 "cells": [
  {
   "cell_type": "markdown",
   "metadata": {},
   "source": [
    "# JuliaDiffEq"
   ]
  },
  {
   "cell_type": "markdown",
   "metadata": {},
   "source": [
    "### From their page [JuliaDiffEq.org](http://juliadiffeq.org/)\n",
    "JuliaDiffEq is a Github organization created to unify the packages for solving differential equations in Julia. By providing a diverse set of tools with a common interface, we provide a modular, easily-extendable, and highly performant ecosystem for solving various forms of differential equations (today mainly ODE and embronic PDE)."
   ]
  },
  {
   "cell_type": "markdown",
   "metadata": {},
   "source": [
    "Includes both wrappers to popular C/Fortran solvers and native Julia implementations. Speedy on Julia implemented code work quite fast, from what I see."
   ]
  },
  {
   "cell_type": "markdown",
   "metadata": {},
   "source": [
    "### Outdated (again) benchmarks are on this [page](https://github.com/JuliaDiffEq/DiffEqBenchmarks.jl)."
   ]
  },
  {
   "cell_type": "markdown",
   "metadata": {},
   "source": [
    "### Currently package have numerical methods to solve\n",
    "- Discrete equations (function maps, discrete stochastic, like Gillespie/Markov, simulations).\n",
    "- Ordinary differential equations (ODEs).\n",
    "- Split and Partitioned ODEs (Symplectic integrators, IMEX Methods).\n",
    "- Stochastic ordinary differential equations (SODEs or SDEs).\n",
    "- Random differential equations (RODEs or RDEs).\n",
    "- Differential algebraic equations (DAEs).\n",
    "- Delay differential equations (DDEs).\n",
    "- Mixed discrete and continuous equations (Hybrid Equations, Jump Diffusions).\n",
    "- (Stochastic) partial differential equations ((S)PDEs) (with both finite difference and finite element methods)."
   ]
  },
  {
   "cell_type": "markdown",
   "metadata": {},
   "source": [
    "###  Main author\n",
    "Christopher Rackauckas, currently at University of California, Irvine, Department of Mathematics, University of Maryland, Baltimore, School of Pharmacy and joining Massachusetts Institute of Technology, Department Of Mathematics in 2019."
   ]
  },
  {
   "cell_type": "markdown",
   "metadata": {},
   "source": [
    "### Very good learning resource\n",
    "Christopher Rackauckas, [*Intro to solving differential equations in Julia*](https://www.youtube.com/watch?v=KPEqYtEd-zY)."
   ]
  },
  {
   "cell_type": "markdown",
   "metadata": {},
   "source": [
    "## Close to $+\\infty$ starting time for (almost) everything. It is Julia tradition"
   ]
  },
  {
   "cell_type": "markdown",
   "metadata": {},
   "source": [
    "## Warmup"
   ]
  },
  {
   "cell_type": "code",
   "execution_count": null,
   "metadata": {
    "scrolled": true
   },
   "outputs": [],
   "source": [
    "using DifferentialEquations, Plots, Latexify\n",
    "gr()"
   ]
  },
  {
   "cell_type": "markdown",
   "metadata": {},
   "source": [
    "# ODE main problem\n",
    "\n",
    "We will study equation\n",
    "\\begin{equation}\n",
    "    \\frac{ d u( t ) }{ dt } = f( u( t ), \\textrm{par}, t ),\n",
    "\\end{equation}\n",
    "where $\\textrm{par}$ are *parameters* of this equation, on given interval $[ t_{ 0 }, t_{ 1 } ]$."
   ]
  },
  {
   "cell_type": "markdown",
   "metadata": {},
   "source": [
    "## 1.1 Simplest example"
   ]
  },
  {
   "cell_type": "markdown",
   "metadata": {},
   "source": [
    "Consider sepcificly the easier ODE\n",
    "\\begin{equation}\n",
    "    \\frac{ du( t ) }{ dt } = 0.98u( t ).\n",
    "\\end{equation}"
   ]
  },
  {
   "cell_type": "code",
   "execution_count": null,
   "metadata": {},
   "outputs": [],
   "source": [
    "f(u, par, t) = 0.98u\n",
    "u₀ = 1.0\n",
    "t_span = (0.0, 1.0)\n",
    "\n",
    "prob = ODEProblem(f, u₀, t_span)"
   ]
  },
  {
   "cell_type": "code",
   "execution_count": null,
   "metadata": {},
   "outputs": [],
   "source": [
    "sol = solve(prob)"
   ]
  },
  {
   "cell_type": "markdown",
   "metadata": {},
   "source": [
    "## Problem succesful solved in 5 lines of code. But this is very easy problem"
   ]
  },
  {
   "cell_type": "code",
   "execution_count": null,
   "metadata": {},
   "outputs": [],
   "source": [
    "typeof(sol)"
   ]
  },
  {
   "cell_type": "markdown",
   "metadata": {},
   "source": [
    "## 1.2 Magic of multiple dispatch"
   ]
  },
  {
   "cell_type": "code",
   "execution_count": null,
   "metadata": {},
   "outputs": [],
   "source": [
    "plot(sol)"
   ]
  },
  {
   "cell_type": "code",
   "execution_count": null,
   "metadata": {},
   "outputs": [],
   "source": [
    "plot(sol, linewidth=5, title=\"Solution to the linear ODE with a tick line\", \n",
    "     xaxis=\"Time (t)\", yaxis=\"u(t) (in μm)\",\n",
    "     label=\"My Thick Line!\")"
   ]
  },
  {
   "cell_type": "code",
   "execution_count": null,
   "metadata": {},
   "outputs": [],
   "source": [
    "plot!(sol.t, t -> 1.0 * exp(0.98t), lw=3, ls= :dash, label=\"True solution\")"
   ]
  },
  {
   "cell_type": "code",
   "execution_count": null,
   "metadata": {},
   "outputs": [],
   "source": [
    "sol.t"
   ]
  },
  {
   "cell_type": "code",
   "execution_count": null,
   "metadata": {
    "scrolled": true
   },
   "outputs": [],
   "source": [
    "sol.u"
   ]
  },
  {
   "cell_type": "markdown",
   "metadata": {},
   "source": [
    "### Default solution is \"continous'', by using interpolation"
   ]
  },
  {
   "cell_type": "code",
   "execution_count": null,
   "metadata": {},
   "outputs": [],
   "source": [
    "x = 0.5\n",
    "(sol(x), exp(0.98 * x))"
   ]
  },
  {
   "cell_type": "markdown",
   "metadata": {},
   "source": [
    "## 2.1 System of equations"
   ]
  },
  {
   "cell_type": "markdown",
   "metadata": {},
   "source": [
    "We want to solve fameous Lorenz system of equations\n",
    "\\begin{equation}\n",
    "    \\frac{ dx( t ) }{ dt } = \\sigma ( y( t ) - x( t ) ),\n",
    "\\end{equation}\n",
    "\\begin{equation}\n",
    "    \\frac{ dy( t ) }{ dt } = x( t ) ( \\rho - z( t ) ) - y( t ),\n",
    "\\end{equation}\n",
    "\\begin{equation}\n",
    "    \\frac{ dz( t ) }{ dt } = x( t ) y( t ) - \\beta z( t ),\n",
    "\\end{equation}\n",
    "with constants $\\sigma$, $\\rho$ and $\\beta$."
   ]
  },
  {
   "cell_type": "code",
   "execution_count": null,
   "metadata": {},
   "outputs": [],
   "source": [
    "function lorenz!(du, u, par, t)\n",
    "    σ, ρ, β = par\n",
    "    du[1] = σ * (u[2] - u[1])\n",
    "    du[2] = u[1] * (ρ - u[3]) - u[2]\n",
    "    du[3] = u[1] * u[2] - β * u[3]\n",
    "end\n",
    "\n",
    "u₀ = [1.0, 0.0, 0.0]\n",
    "par = (10, 28, 8/3)\n",
    "t_span = (0.0, 50.0)\n",
    "\n",
    "prob = ODEProblem(lorenz!, u₀, t_span, par)\n",
    "\n",
    "sol = solve(prob)\n",
    "\n",
    "plot(sol, vars=(1, 2, 3))"
   ]
  },
  {
   "cell_type": "markdown",
   "metadata": {},
   "source": [
    "## 2.2 Metaprograming strange art"
   ]
  },
  {
   "cell_type": "markdown",
   "metadata": {},
   "source": [
    "### This is still not so easy to read, so we use strange art of metaprogramming."
   ]
  },
  {
   "cell_type": "code",
   "execution_count": null,
   "metadata": {
    "scrolled": true
   },
   "outputs": [],
   "source": [
    "lorenz_system! = @ode_def LorenzSystem begin\n",
    "    dx = σ * (y - x)\n",
    "    dy = x * (ρ - z) - y\n",
    "    dz = x*y - β*z\n",
    "end σ ρ β"
   ]
  },
  {
   "cell_type": "code",
   "execution_count": null,
   "metadata": {},
   "outputs": [],
   "source": [
    "u₀ = [1.0, 0.0, 0.0]\n",
    "par = (10, 28, 8/3)  # Cannonical values: 10, 28, 8/3\n",
    "t_span = (0.0, 50.0)\n",
    "\n",
    "prob = ODEProblem(lorenz_system!, u₀, t_span, par)\n",
    "sol = solve(prob)\n",
    "\n",
    "plot(sol, vars=(1, 2, 3))"
   ]
  },
  {
   "cell_type": "code",
   "execution_count": null,
   "metadata": {},
   "outputs": [],
   "source": [
    "lorenz_system!.Jex  # Symbolic computation of Jacobian matrix (?) to make computation faster"
   ]
  },
  {
   "cell_type": "markdown",
   "metadata": {},
   "source": [
    "## We now use Latexify.jl"
   ]
  },
  {
   "cell_type": "code",
   "execution_count": null,
   "metadata": {
    "scrolled": true
   },
   "outputs": [],
   "source": [
    "latexalign(lorenz_system!)"
   ]
  },
  {
   "cell_type": "markdown",
   "metadata": {},
   "source": [
    "## If you want to put it into publication, we need maybe few generic functions more"
   ]
  },
  {
   "cell_type": "code",
   "execution_count": null,
   "metadata": {},
   "outputs": [],
   "source": [
    "print(latexalign(lorenz_system!))"
   ]
  },
  {
   "cell_type": "markdown",
   "metadata": {},
   "source": [
    "## If you like and use, please cite\n",
    "Rackauckas, C. and Nie, Q., 2017. **DifferentialEquations.jl – A Performant and Feature-Rich Ecosystem for Solving Differential Equations in Julia**. *Journal of Open Research Software*, 5(1), p.15. DOI: http://doi.org/10.5334/jors.151."
   ]
  },
  {
   "cell_type": "markdown",
   "metadata": {},
   "source": [
    "More articles to cite: [http://juliadiffeq.org/citing.html](http://juliadiffeq.org/citing.html)."
   ]
  },
  {
   "cell_type": "markdown",
   "metadata": {},
   "source": [
    "## If you want to contribute and write some code you are welcome."
   ]
  }
 ],
 "metadata": {
  "kernelspec": {
   "display_name": "Julia 1.0.2",
   "language": "julia",
   "name": "julia-1.0"
  },
  "language_info": {
   "file_extension": ".jl",
   "mimetype": "application/julia",
   "name": "julia",
   "version": "1.0.2"
  }
 },
 "nbformat": 4,
 "nbformat_minor": 2
}
