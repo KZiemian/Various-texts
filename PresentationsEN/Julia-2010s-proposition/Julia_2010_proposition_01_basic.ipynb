{
 "cells": [
  {
   "cell_type": "markdown",
   "metadata": {},
   "source": [
    "# Advertisment"
   ]
  },
  {
   "cell_type": "markdown",
   "metadata": {},
   "source": [
    "## Easy as MATLAB, flexible as Python, deep as Lisp, fast as Fortran.\n",
    "John F. Gibson, [*WhyJulia*](https://github.com/johnfgibson/whyjulia/blob/master/1-whyjulia.ipynb)."
   ]
  },
  {
   "cell_type": "markdown",
   "metadata": {},
   "source": [
    "## 1. Some mathematical code"
   ]
  },
  {
   "cell_type": "markdown",
   "metadata": {},
   "source": [
    "## Warmup"
   ]
  },
  {
   "cell_type": "code",
   "execution_count": 1,
   "metadata": {},
   "outputs": [],
   "source": [
    "using Colors, Plots, Libdl, BenchmarkTools, Statistics"
   ]
  },
  {
   "cell_type": "markdown",
   "metadata": {},
   "source": [
    "## Close to $+\\infty$ starting time for everything. It is Julia tradition"
   ]
  },
  {
   "cell_type": "markdown",
   "metadata": {},
   "source": [
    "## Quick presentation"
   ]
  },
  {
   "cell_type": "code",
   "execution_count": 2,
   "metadata": {
    "scrolled": true
   },
   "outputs": [
    {
     "data": {
      "text/plain": [
       "2×2 Array{Int64,2}:\n",
       " 1   0\n",
       " 0  -1"
      ]
     },
     "execution_count": 2,
     "metadata": {},
     "output_type": "execute_result"
    }
   ],
   "source": [
    "σ₁ = [0 1;\n",
    "      1 0];\n",
    "σ₂ = [0 -im;\n",
    "      im 0];\n",
    "σ₃ = [1  0;\n",
    "      0 -1]"
   ]
  },
  {
   "cell_type": "code",
   "execution_count": 3,
   "metadata": {
    "scrolled": true
   },
   "outputs": [
    {
     "data": {
      "text/plain": [
       "2×2 Array{Complex{Int64},2}:\n",
       " 0+1im  0+0im\n",
       " 0+0im  0-1im"
      ]
     },
     "execution_count": 3,
     "metadata": {},
     "output_type": "execute_result"
    }
   ],
   "source": [
    "σ₁ * σ₂"
   ]
  },
  {
   "cell_type": "code",
   "execution_count": 4,
   "metadata": {},
   "outputs": [
    {
     "data": {
      "text/plain": [
       "2×2 Array{Int64,2}:\n",
       " 0  -1\n",
       " 1   0"
      ]
     },
     "execution_count": 4,
     "metadata": {},
     "output_type": "execute_result"
    }
   ],
   "source": [
    "σ₁ * σ₃"
   ]
  },
  {
   "cell_type": "code",
   "execution_count": 5,
   "metadata": {
    "scrolled": false
   },
   "outputs": [
    {
     "data": {
      "text/plain": [
       "2×2 Array{Int64,2}:\n",
       " 1  0\n",
       " 0  1"
      ]
     },
     "execution_count": 5,
     "metadata": {},
     "output_type": "execute_result"
    }
   ],
   "source": [
    "σ₁^2"
   ]
  },
  {
   "cell_type": "code",
   "execution_count": 6,
   "metadata": {},
   "outputs": [
    {
     "data": {
      "text/plain": [
       "1000"
      ]
     },
     "execution_count": 6,
     "metadata": {},
     "output_type": "execute_result"
    }
   ],
   "source": [
    "n = 1_000"
   ]
  },
  {
   "cell_type": "code",
   "execution_count": 7,
   "metadata": {},
   "outputs": [
    {
     "data": {
      "text/plain": [
       "2×2 Array{Int64,2}:\n",
       "    0  1000\n",
       " 1000     0"
      ]
     },
     "execution_count": 7,
     "metadata": {},
     "output_type": "execute_result"
    }
   ],
   "source": [
    "n * σ₁"
   ]
  },
  {
   "cell_type": "code",
   "execution_count": 8,
   "metadata": {
    "scrolled": true
   },
   "outputs": [
    {
     "data": {
      "text/plain": [
       "π = 3.1415926535897..."
      ]
     },
     "execution_count": 8,
     "metadata": {},
     "output_type": "execute_result"
    }
   ],
   "source": [
    "pi"
   ]
  },
  {
   "cell_type": "code",
   "execution_count": 9,
   "metadata": {},
   "outputs": [
    {
     "data": {
      "text/plain": [
       "π = 3.1415926535897..."
      ]
     },
     "execution_count": 9,
     "metadata": {},
     "output_type": "execute_result"
    }
   ],
   "source": [
    "π"
   ]
  },
  {
   "cell_type": "code",
   "execution_count": 10,
   "metadata": {},
   "outputs": [
    {
     "data": {
      "text/plain": [
       "2"
      ]
     },
     "execution_count": 10,
     "metadata": {},
     "output_type": "execute_result"
    }
   ],
   "source": [
    "x = 1\n",
    "y = 2"
   ]
  },
  {
   "cell_type": "code",
   "execution_count": 11,
   "metadata": {},
   "outputs": [
    {
     "name": "stdout",
     "output_type": "stream",
     "text": [
      "1 + 2 = 3\n"
     ]
    }
   ],
   "source": [
    "println(\"$x + $y = $(x + y)\")"
   ]
  },
  {
   "cell_type": "code",
   "execution_count": 12,
   "metadata": {},
   "outputs": [
    {
     "name": "stdout",
     "output_type": "stream",
     "text": [
      "σ₂ = Complex{Int64}[0+0im 0-1im; 0+1im 0+0im]\n"
     ]
    }
   ],
   "source": [
    "println(\"σ₂ = $(σ₂)\")"
   ]
  },
  {
   "cell_type": "markdown",
   "metadata": {},
   "source": [
    "## Unfortunetly\n",
    "Unicode restrain Julia (C#, Rust, etc.) abilitis to use super- and subscripts limiting it to 30 concret case. It should be at least 2 $\\times$ bigger. By there is a hope, that Unicode will be updated, look [*Unicode Proposal to Encode Subscripts/Superscripts for Mathematical Programming*](https://github.com/stevengj/subsuper-proposal)."
   ]
  },
  {
   "cell_type": "markdown",
   "metadata": {},
   "source": [
    "## Starting again with basics things"
   ]
  },
  {
   "cell_type": "code",
   "execution_count": 13,
   "metadata": {
    "scrolled": false
   },
   "outputs": [
    {
     "data": {
      "text/plain": [
       "1//3"
      ]
     },
     "execution_count": 13,
     "metadata": {},
     "output_type": "execute_result"
    }
   ],
   "source": [
    "1//3"
   ]
  },
  {
   "cell_type": "code",
   "execution_count": 14,
   "metadata": {
    "scrolled": true
   },
   "outputs": [
    {
     "data": {
      "text/plain": [
       "5//6"
      ]
     },
     "execution_count": 14,
     "metadata": {},
     "output_type": "execute_result"
    }
   ],
   "source": [
    "1//3 + 1//2"
   ]
  },
  {
   "cell_type": "code",
   "execution_count": 15,
   "metadata": {
    "scrolled": true
   },
   "outputs": [
    {
     "data": {
      "text/plain": [
       "0.3333333333333333"
      ]
     },
     "execution_count": 15,
     "metadata": {},
     "output_type": "execute_result"
    }
   ],
   "source": [
    "1/3"
   ]
  },
  {
   "cell_type": "code",
   "execution_count": 16,
   "metadata": {},
   "outputs": [
    {
     "data": {
      "text/plain": [
       "1//3"
      ]
     },
     "execution_count": 16,
     "metadata": {},
     "output_type": "execute_result"
    }
   ],
   "source": [
    "convert(Rational{Int32}, 1/3)"
   ]
  },
  {
   "cell_type": "code",
   "execution_count": 17,
   "metadata": {
    "scrolled": true
   },
   "outputs": [
    {
     "data": {
      "text/plain": [
       "6004799503160661//18014398509481984"
      ]
     },
     "execution_count": 17,
     "metadata": {},
     "output_type": "execute_result"
    }
   ],
   "source": [
    "convert(Rational{Int64}, 1/3)"
   ]
  },
  {
   "cell_type": "code",
   "execution_count": 18,
   "metadata": {},
   "outputs": [
    {
     "data": {
      "text/plain": [
       "\"Pola\""
      ]
     },
     "execution_count": 18,
     "metadata": {},
     "output_type": "execute_result"
    }
   ],
   "source": [
    "a = \"Zakład Teorii \"\n",
    "b = \"Pola\""
   ]
  },
  {
   "cell_type": "code",
   "execution_count": 19,
   "metadata": {},
   "outputs": [
    {
     "data": {
      "text/plain": [
       "\"Zakład Teorii Pola\""
      ]
     },
     "execution_count": 19,
     "metadata": {},
     "output_type": "execute_result"
    }
   ],
   "source": [
    "a * b"
   ]
  },
  {
   "cell_type": "code",
   "execution_count": 20,
   "metadata": {},
   "outputs": [
    {
     "data": {
      "text/plain": [
       "\"pole pole pole pole pole pole pole pole pole pole pole pole pole pole pole pole pole pole pole pole pole pole pole pole pole pole pole pole pole pole pole pole pole pole pole pole pole pole pole pole pole pole pole pole pole pole pole pole pole pole pole pole pole pole pole pole pole pole pole pole pole pole pole pole pole pole pole pole pole pole pole pole pole pole pole pole pole pole pole pole pole pole pole pole pole pole pole pole pole pole pole pole pole pole pole pole pole pole pole pole \""
      ]
     },
     "execution_count": 20,
     "metadata": {},
     "output_type": "execute_result"
    }
   ],
   "source": [
    "\"pole \"^100"
   ]
  },
  {
   "cell_type": "code",
   "execution_count": 21,
   "metadata": {
    "scrolled": true
   },
   "outputs": [
    {
     "data": {
      "text/plain": [
       "1×3 Array{Int64,2}:\n",
       " 1  2  0"
      ]
     },
     "execution_count": 21,
     "metadata": {},
     "output_type": "execute_result"
    }
   ],
   "source": [
    "v₁ = [1 2 0]"
   ]
  },
  {
   "cell_type": "code",
   "execution_count": 22,
   "metadata": {
    "scrolled": true
   },
   "outputs": [
    {
     "data": {
      "text/plain": [
       "1×3 Array{Int64,2}:\n",
       " 0  -2  3"
      ]
     },
     "execution_count": 22,
     "metadata": {},
     "output_type": "execute_result"
    }
   ],
   "source": [
    "v₂ = [0 -2 3]"
   ]
  },
  {
   "cell_type": "code",
   "execution_count": 23,
   "metadata": {},
   "outputs": [
    {
     "data": {
      "text/plain": [
       "1×3 Array{Int64,2}:\n",
       " 1  0  3"
      ]
     },
     "execution_count": 23,
     "metadata": {},
     "output_type": "execute_result"
    }
   ],
   "source": [
    "v₁ + v₂"
   ]
  },
  {
   "cell_type": "code",
   "execution_count": 24,
   "metadata": {},
   "outputs": [
    {
     "data": {
      "text/plain": [
       "3-element Array{Int64,1}:\n",
       " 2\n",
       " 1\n",
       " 0"
      ]
     },
     "execution_count": 24,
     "metadata": {},
     "output_type": "execute_result"
    }
   ],
   "source": [
    "v₂ = [2, 1, 0]  # Proper vector"
   ]
  },
  {
   "cell_type": "code",
   "execution_count": 25,
   "metadata": {
    "scrolled": true
   },
   "outputs": [
    {
     "data": {
      "text/plain": [
       "1-element Array{Int64,1}:\n",
       " 4"
      ]
     },
     "execution_count": 25,
     "metadata": {},
     "output_type": "execute_result"
    }
   ],
   "source": [
    "v₁ * v₂"
   ]
  },
  {
   "cell_type": "code",
   "execution_count": 26,
   "metadata": {},
   "outputs": [
    {
     "data": {
      "text/plain": [
       "3×1 LinearAlgebra.Adjoint{Int64,Array{Int64,2}}:\n",
       " 1\n",
       " 2\n",
       " 0"
      ]
     },
     "execution_count": 26,
     "metadata": {},
     "output_type": "execute_result"
    }
   ],
   "source": [
    "v₁'"
   ]
  },
  {
   "cell_type": "code",
   "execution_count": 27,
   "metadata": {},
   "outputs": [
    {
     "data": {
      "text/plain": [
       "5"
      ]
     },
     "execution_count": 27,
     "metadata": {},
     "output_type": "execute_result"
    }
   ],
   "source": [
    "v₂'v₂"
   ]
  },
  {
   "cell_type": "code",
   "execution_count": 28,
   "metadata": {},
   "outputs": [
    {
     "data": {
      "text/plain": [
       "3×3 Array{Int64,2}:\n",
       " 1  2  0\n",
       " 2  4  0\n",
       " 0  0  0"
      ]
     },
     "execution_count": 28,
     "metadata": {},
     "output_type": "execute_result"
    }
   ],
   "source": [
    "v₁'v₁"
   ]
  },
  {
   "cell_type": "code",
   "execution_count": 29,
   "metadata": {},
   "outputs": [],
   "source": [
    "using LinearAlgebra"
   ]
  },
  {
   "cell_type": "code",
   "execution_count": 30,
   "metadata": {},
   "outputs": [
    {
     "data": {
      "text/plain": [
       "5"
      ]
     },
     "execution_count": 30,
     "metadata": {},
     "output_type": "execute_result"
    }
   ],
   "source": [
    "v₁ ⋅ v₁"
   ]
  },
  {
   "cell_type": "markdown",
   "metadata": {},
   "source": [
    "$v_{ 2 } \\times v_{ 2 }$"
   ]
  },
  {
   "cell_type": "code",
   "execution_count": 31,
   "metadata": {},
   "outputs": [
    {
     "data": {
      "text/plain": [
       "3-element Array{Int64,1}:\n",
       " 0\n",
       " 0\n",
       " 0"
      ]
     },
     "execution_count": 31,
     "metadata": {},
     "output_type": "execute_result"
    }
   ],
   "source": [
    "v₂ × v₂"
   ]
  },
  {
   "cell_type": "code",
   "execution_count": null,
   "metadata": {},
   "outputs": [],
   "source": [
    "?×"
   ]
  },
  {
   "cell_type": "code",
   "execution_count": 32,
   "metadata": {
    "scrolled": false
   },
   "outputs": [
    {
     "data": {
      "text/plain": [
       "2×2 Array{Int64,2}:\n",
       " 0  1\n",
       " 1  0"
      ]
     },
     "execution_count": 32,
     "metadata": {},
     "output_type": "execute_result"
    }
   ],
   "source": [
    "A = [0 1; 1 0]"
   ]
  },
  {
   "cell_type": "code",
   "execution_count": 33,
   "metadata": {},
   "outputs": [
    {
     "data": {
      "text/plain": [
       "Array{Int64,2}"
      ]
     },
     "execution_count": 33,
     "metadata": {},
     "output_type": "execute_result"
    }
   ],
   "source": [
    "typeof(A)"
   ]
  },
  {
   "cell_type": "code",
   "execution_count": 34,
   "metadata": {},
   "outputs": [
    {
     "data": {
      "text/plain": [
       "true"
      ]
     },
     "execution_count": 34,
     "metadata": {},
     "output_type": "execute_result"
    }
   ],
   "source": [
    "issymmetric(A)"
   ]
  },
  {
   "cell_type": "code",
   "execution_count": 35,
   "metadata": {},
   "outputs": [
    {
     "data": {
      "text/plain": [
       "Eigen{Float64,Float64,Array{Float64,2},Array{Float64,1}}\n",
       "eigenvalues:\n",
       "2-element Array{Float64,1}:\n",
       " -1.0\n",
       "  1.0\n",
       "eigenvectors:\n",
       "2×2 Array{Float64,2}:\n",
       " -0.707107  0.707107\n",
       "  0.707107  0.707107"
      ]
     },
     "execution_count": 35,
     "metadata": {},
     "output_type": "execute_result"
    }
   ],
   "source": [
    "eigen(A)"
   ]
  },
  {
   "cell_type": "code",
   "execution_count": 36,
   "metadata": {},
   "outputs": [
    {
     "name": "stdout",
     "output_type": "stream",
     "text": [
      "search: \u001b[0m\u001b[1me\u001b[22m\u001b[0m\u001b[1mi\u001b[22m\u001b[0m\u001b[1mg\u001b[22m\u001b[0m\u001b[1me\u001b[22m\u001b[0m\u001b[1mn\u001b[22m \u001b[0m\u001b[1me\u001b[22m\u001b[0m\u001b[1mi\u001b[22m\u001b[0m\u001b[1mg\u001b[22m\u001b[0m\u001b[1me\u001b[22m\u001b[0m\u001b[1mn\u001b[22m! \u001b[0m\u001b[1mE\u001b[22m\u001b[0m\u001b[1mi\u001b[22m\u001b[0m\u001b[1mg\u001b[22m\u001b[0m\u001b[1me\u001b[22m\u001b[0m\u001b[1mn\u001b[22m G\u001b[0m\u001b[1me\u001b[22mneral\u001b[0m\u001b[1mi\u001b[22mzedEi\u001b[0m\u001b[1mg\u001b[22m\u001b[0m\u001b[1me\u001b[22m\u001b[0m\u001b[1mn\u001b[22m w\u001b[0m\u001b[1me\u001b[22m\u001b[0m\u001b[1mi\u001b[22m\u001b[0m\u001b[1mg\u001b[22mht\u001b[0m\u001b[1me\u001b[22md_color_mea\u001b[0m\u001b[1mn\u001b[22m \u001b[0m\u001b[1me\u001b[22m\u001b[0m\u001b[1mi\u001b[22m\u001b[0m\u001b[1mg\u001b[22mv\u001b[0m\u001b[1me\u001b[22mcs\n",
      "\n"
     ]
    },
    {
     "data": {
      "text/markdown": [
       "```\n",
       "eigen(A; permute::Bool=true, scale::Bool=true) -> Eigen\n",
       "```\n",
       "\n",
       "Computes the eigenvalue decomposition of `A`, returning an `Eigen` factorization object `F` which contains the eigenvalues in `F.values` and the eigenvectors in the columns of the matrix `F.vectors`. (The `k`th eigenvector can be obtained from the slice `F.vectors[:, k]`.)\n",
       "\n",
       "Iterating the decomposition produces the components `F.values` and `F.vectors`.\n",
       "\n",
       "The following functions are available for `Eigen` objects: [`inv`](@ref), [`det`](@ref), and [`isposdef`](@ref).\n",
       "\n",
       "For general nonsymmetric matrices it is possible to specify how the matrix is balanced before the eigenvector calculation. The option `permute=true` permutes the matrix to become closer to upper triangular, and `scale=true` scales the matrix by its diagonal elements to make rows and columns more equal in norm. The default is `true` for both options.\n",
       "\n",
       "# Examples\n",
       "\n",
       "```jldoctest\n",
       "julia> F = eigen([1.0 0.0 0.0; 0.0 3.0 0.0; 0.0 0.0 18.0])\n",
       "Eigen{Float64,Float64,Array{Float64,2},Array{Float64,1}}\n",
       "eigenvalues:\n",
       "3-element Array{Float64,1}:\n",
       "  1.0\n",
       "  3.0\n",
       " 18.0\n",
       "eigenvectors:\n",
       "3×3 Array{Float64,2}:\n",
       " 1.0  0.0  0.0\n",
       " 0.0  1.0  0.0\n",
       " 0.0  0.0  1.0\n",
       "\n",
       "julia> F.values\n",
       "3-element Array{Float64,1}:\n",
       "  1.0\n",
       "  3.0\n",
       " 18.0\n",
       "\n",
       "julia> F.vectors\n",
       "3×3 Array{Float64,2}:\n",
       " 1.0  0.0  0.0\n",
       " 0.0  1.0  0.0\n",
       " 0.0  0.0  1.0\n",
       "\n",
       "julia> vals, vecs = F; # destructuring via iteration\n",
       "\n",
       "julia> vals == F.values && vecs == F.vectors\n",
       "true\n",
       "```\n",
       "\n",
       "---\n",
       "\n",
       "```\n",
       "eigen(A, B) -> GeneralizedEigen\n",
       "```\n",
       "\n",
       "Computes the generalized eigenvalue decomposition of `A` and `B`, returning a `GeneralizedEigen` factorization object `F` which contains the generalized eigenvalues in `F.values` and the generalized eigenvectors in the columns of the matrix `F.vectors`. (The `k`th generalized eigenvector can be obtained from the slice `F.vectors[:, k]`.)\n",
       "\n",
       "Iterating the decomposition produces the components `F.values` and `F.vectors`.\n",
       "\n",
       "# Examples\n",
       "\n",
       "```jldoctest\n",
       "julia> A = [1 0; 0 -1]\n",
       "2×2 Array{Int64,2}:\n",
       " 1   0\n",
       " 0  -1\n",
       "\n",
       "julia> B = [0 1; 1 0]\n",
       "2×2 Array{Int64,2}:\n",
       " 0  1\n",
       " 1  0\n",
       "\n",
       "julia> F = eigen(A, B);\n",
       "\n",
       "julia> F.values\n",
       "2-element Array{Complex{Float64},1}:\n",
       " 0.0 + 1.0im\n",
       " 0.0 - 1.0im\n",
       "\n",
       "julia> F.vectors\n",
       "2×2 Array{Complex{Float64},2}:\n",
       "  0.0-1.0im   0.0+1.0im\n",
       " -1.0-0.0im  -1.0+0.0im\n",
       "\n",
       "julia> vals, vecs = F; # destructuring via iteration\n",
       "\n",
       "julia> vals == F.values && vecs == F.vectors\n",
       "true\n",
       "```\n",
       "\n",
       "---\n",
       "\n",
       "```\n",
       "eigen(A::Union{SymTridiagonal, Hermitian, Symmetric}, irange::UnitRange) -> Eigen\n",
       "```\n",
       "\n",
       "Computes the eigenvalue decomposition of `A`, returning an `Eigen` factorization object `F` which contains the eigenvalues in `F.values` and the eigenvectors in the columns of the matrix `F.vectors`. (The `k`th eigenvector can be obtained from the slice `F.vectors[:, k]`.)\n",
       "\n",
       "Iterating the decomposition produces the components `F.values` and `F.vectors`.\n",
       "\n",
       "The following functions are available for `Eigen` objects: [`inv`](@ref), [`det`](@ref), and [`isposdef`](@ref).\n",
       "\n",
       "The `UnitRange` `irange` specifies indices of the sorted eigenvalues to search for.\n",
       "\n",
       "!!! note\n",
       "    If `irange` is not `1:n`, where `n` is the dimension of `A`, then the returned factorization will be a *truncated* factorization.\n",
       "\n",
       "\n",
       "---\n",
       "\n",
       "```\n",
       "eigen(A::Union{SymTridiagonal, Hermitian, Symmetric}, vl::Real, vu::Real) -> Eigen\n",
       "```\n",
       "\n",
       "Computes the eigenvalue decomposition of `A`, returning an `Eigen` factorization object `F` which contains the eigenvalues in `F.values` and the eigenvectors in the columns of the matrix `F.vectors`. (The `k`th eigenvector can be obtained from the slice `F.vectors[:, k]`.)\n",
       "\n",
       "Iterating the decomposition produces the components `F.values` and `F.vectors`.\n",
       "\n",
       "The following functions are available for `Eigen` objects: [`inv`](@ref), [`det`](@ref), and [`isposdef`](@ref).\n",
       "\n",
       "`vl` is the lower bound of the window of eigenvalues to search for, and `vu` is the upper bound.\n",
       "\n",
       "!!! note\n",
       "    If [`vl`, `vu`] does not contain all eigenvalues of `A`, then the returned factorization will be a *truncated* factorization.\n",
       "\n"
      ],
      "text/plain": [
       "\u001b[36m  eigen(A; permute::Bool=true, scale::Bool=true) -> Eigen\u001b[39m\n",
       "\n",
       "  Computes the eigenvalue decomposition of \u001b[36mA\u001b[39m, returning an \u001b[36mEigen\u001b[39m factorization\n",
       "  object \u001b[36mF\u001b[39m which contains the eigenvalues in \u001b[36mF.values\u001b[39m and the eigenvectors in\n",
       "  the columns of the matrix \u001b[36mF.vectors\u001b[39m. (The \u001b[36mk\u001b[39mth eigenvector can be obtained\n",
       "  from the slice \u001b[36mF.vectors[:, k]\u001b[39m.)\n",
       "\n",
       "  Iterating the decomposition produces the components \u001b[36mF.values\u001b[39m and \u001b[36mF.vectors\u001b[39m.\n",
       "\n",
       "  The following functions are available for \u001b[36mEigen\u001b[39m objects: \u001b[36minv\u001b[39m, \u001b[36mdet\u001b[39m, and\n",
       "  \u001b[36misposdef\u001b[39m.\n",
       "\n",
       "  For general nonsymmetric matrices it is possible to specify how the matrix\n",
       "  is balanced before the eigenvector calculation. The option \u001b[36mpermute=true\u001b[39m\n",
       "  permutes the matrix to become closer to upper triangular, and \u001b[36mscale=true\u001b[39m\n",
       "  scales the matrix by its diagonal elements to make rows and columns more\n",
       "  equal in norm. The default is \u001b[36mtrue\u001b[39m for both options.\n",
       "\n",
       "\u001b[1m  Examples\u001b[22m\n",
       "\u001b[1m  ≡≡≡≡≡≡≡≡≡≡\u001b[22m\n",
       "\n",
       "\u001b[36m  julia> F = eigen([1.0 0.0 0.0; 0.0 3.0 0.0; 0.0 0.0 18.0])\u001b[39m\n",
       "\u001b[36m  Eigen{Float64,Float64,Array{Float64,2},Array{Float64,1}}\u001b[39m\n",
       "\u001b[36m  eigenvalues:\u001b[39m\n",
       "\u001b[36m  3-element Array{Float64,1}:\u001b[39m\n",
       "\u001b[36m    1.0\u001b[39m\n",
       "\u001b[36m    3.0\u001b[39m\n",
       "\u001b[36m   18.0\u001b[39m\n",
       "\u001b[36m  eigenvectors:\u001b[39m\n",
       "\u001b[36m  3×3 Array{Float64,2}:\u001b[39m\n",
       "\u001b[36m   1.0  0.0  0.0\u001b[39m\n",
       "\u001b[36m   0.0  1.0  0.0\u001b[39m\n",
       "\u001b[36m   0.0  0.0  1.0\u001b[39m\n",
       "\u001b[36m  \u001b[39m\n",
       "\u001b[36m  julia> F.values\u001b[39m\n",
       "\u001b[36m  3-element Array{Float64,1}:\u001b[39m\n",
       "\u001b[36m    1.0\u001b[39m\n",
       "\u001b[36m    3.0\u001b[39m\n",
       "\u001b[36m   18.0\u001b[39m\n",
       "\u001b[36m  \u001b[39m\n",
       "\u001b[36m  julia> F.vectors\u001b[39m\n",
       "\u001b[36m  3×3 Array{Float64,2}:\u001b[39m\n",
       "\u001b[36m   1.0  0.0  0.0\u001b[39m\n",
       "\u001b[36m   0.0  1.0  0.0\u001b[39m\n",
       "\u001b[36m   0.0  0.0  1.0\u001b[39m\n",
       "\u001b[36m  \u001b[39m\n",
       "\u001b[36m  julia> vals, vecs = F; # destructuring via iteration\u001b[39m\n",
       "\u001b[36m  \u001b[39m\n",
       "\u001b[36m  julia> vals == F.values && vecs == F.vectors\u001b[39m\n",
       "\u001b[36m  true\u001b[39m\n",
       "\n",
       "  ────────────────────────────────────────────────────────────────────────────\n",
       "\n",
       "\u001b[36m  eigen(A, B) -> GeneralizedEigen\u001b[39m\n",
       "\n",
       "  Computes the generalized eigenvalue decomposition of \u001b[36mA\u001b[39m and \u001b[36mB\u001b[39m, returning a\n",
       "  \u001b[36mGeneralizedEigen\u001b[39m factorization object \u001b[36mF\u001b[39m which contains the generalized\n",
       "  eigenvalues in \u001b[36mF.values\u001b[39m and the generalized eigenvectors in the columns of\n",
       "  the matrix \u001b[36mF.vectors\u001b[39m. (The \u001b[36mk\u001b[39mth generalized eigenvector can be obtained from\n",
       "  the slice \u001b[36mF.vectors[:, k]\u001b[39m.)\n",
       "\n",
       "  Iterating the decomposition produces the components \u001b[36mF.values\u001b[39m and \u001b[36mF.vectors\u001b[39m.\n",
       "\n",
       "\u001b[1m  Examples\u001b[22m\n",
       "\u001b[1m  ≡≡≡≡≡≡≡≡≡≡\u001b[22m\n",
       "\n",
       "\u001b[36m  julia> A = [1 0; 0 -1]\u001b[39m\n",
       "\u001b[36m  2×2 Array{Int64,2}:\u001b[39m\n",
       "\u001b[36m   1   0\u001b[39m\n",
       "\u001b[36m   0  -1\u001b[39m\n",
       "\u001b[36m  \u001b[39m\n",
       "\u001b[36m  julia> B = [0 1; 1 0]\u001b[39m\n",
       "\u001b[36m  2×2 Array{Int64,2}:\u001b[39m\n",
       "\u001b[36m   0  1\u001b[39m\n",
       "\u001b[36m   1  0\u001b[39m\n",
       "\u001b[36m  \u001b[39m\n",
       "\u001b[36m  julia> F = eigen(A, B);\u001b[39m\n",
       "\u001b[36m  \u001b[39m\n",
       "\u001b[36m  julia> F.values\u001b[39m\n",
       "\u001b[36m  2-element Array{Complex{Float64},1}:\u001b[39m\n",
       "\u001b[36m   0.0 + 1.0im\u001b[39m\n",
       "\u001b[36m   0.0 - 1.0im\u001b[39m\n",
       "\u001b[36m  \u001b[39m\n",
       "\u001b[36m  julia> F.vectors\u001b[39m\n",
       "\u001b[36m  2×2 Array{Complex{Float64},2}:\u001b[39m\n",
       "\u001b[36m    0.0-1.0im   0.0+1.0im\u001b[39m\n",
       "\u001b[36m   -1.0-0.0im  -1.0+0.0im\u001b[39m\n",
       "\u001b[36m  \u001b[39m\n",
       "\u001b[36m  julia> vals, vecs = F; # destructuring via iteration\u001b[39m\n",
       "\u001b[36m  \u001b[39m\n",
       "\u001b[36m  julia> vals == F.values && vecs == F.vectors\u001b[39m\n",
       "\u001b[36m  true\u001b[39m\n",
       "\n",
       "  ────────────────────────────────────────────────────────────────────────────\n",
       "\n",
       "\u001b[36m  eigen(A::Union{SymTridiagonal, Hermitian, Symmetric}, irange::UnitRange) -> Eigen\u001b[39m\n",
       "\n",
       "  Computes the eigenvalue decomposition of \u001b[36mA\u001b[39m, returning an \u001b[36mEigen\u001b[39m factorization\n",
       "  object \u001b[36mF\u001b[39m which contains the eigenvalues in \u001b[36mF.values\u001b[39m and the eigenvectors in\n",
       "  the columns of the matrix \u001b[36mF.vectors\u001b[39m. (The \u001b[36mk\u001b[39mth eigenvector can be obtained\n",
       "  from the slice \u001b[36mF.vectors[:, k]\u001b[39m.)\n",
       "\n",
       "  Iterating the decomposition produces the components \u001b[36mF.values\u001b[39m and \u001b[36mF.vectors\u001b[39m.\n",
       "\n",
       "  The following functions are available for \u001b[36mEigen\u001b[39m objects: \u001b[36minv\u001b[39m, \u001b[36mdet\u001b[39m, and\n",
       "  \u001b[36misposdef\u001b[39m.\n",
       "\n",
       "  The \u001b[36mUnitRange\u001b[39m \u001b[36mirange\u001b[39m specifies indices of the sorted eigenvalues to search\n",
       "  for.\n",
       "\n",
       "\u001b[36m\u001b[1m  │ \u001b[22m\u001b[39m\u001b[36m\u001b[1mNote\u001b[22m\u001b[39m\n",
       "\u001b[36m\u001b[1m  │\u001b[22m\u001b[39m\n",
       "\u001b[36m\u001b[1m  │\u001b[22m\u001b[39m  If \u001b[36mirange\u001b[39m is not \u001b[36m1:n\u001b[39m, where \u001b[36mn\u001b[39m is the dimension of \u001b[36mA\u001b[39m, then the\n",
       "\u001b[36m\u001b[1m  │\u001b[22m\u001b[39m  returned factorization will be a \u001b[4mtruncated\u001b[24m factorization.\n",
       "\n",
       "  ────────────────────────────────────────────────────────────────────────────\n",
       "\n",
       "\u001b[36m  eigen(A::Union{SymTridiagonal, Hermitian, Symmetric}, vl::Real, vu::Real) -> Eigen\u001b[39m\n",
       "\n",
       "  Computes the eigenvalue decomposition of \u001b[36mA\u001b[39m, returning an \u001b[36mEigen\u001b[39m factorization\n",
       "  object \u001b[36mF\u001b[39m which contains the eigenvalues in \u001b[36mF.values\u001b[39m and the eigenvectors in\n",
       "  the columns of the matrix \u001b[36mF.vectors\u001b[39m. (The \u001b[36mk\u001b[39mth eigenvector can be obtained\n",
       "  from the slice \u001b[36mF.vectors[:, k]\u001b[39m.)\n",
       "\n",
       "  Iterating the decomposition produces the components \u001b[36mF.values\u001b[39m and \u001b[36mF.vectors\u001b[39m.\n",
       "\n",
       "  The following functions are available for \u001b[36mEigen\u001b[39m objects: \u001b[36minv\u001b[39m, \u001b[36mdet\u001b[39m, and\n",
       "  \u001b[36misposdef\u001b[39m.\n",
       "\n",
       "  \u001b[36mvl\u001b[39m is the lower bound of the window of eigenvalues to search for, and \u001b[36mvu\u001b[39m is\n",
       "  the upper bound.\n",
       "\n",
       "\u001b[36m\u001b[1m  │ \u001b[22m\u001b[39m\u001b[36m\u001b[1mNote\u001b[22m\u001b[39m\n",
       "\u001b[36m\u001b[1m  │\u001b[22m\u001b[39m\n",
       "\u001b[36m\u001b[1m  │\u001b[22m\u001b[39m  If [\u001b[36mvl\u001b[39m, \u001b[36mvu\u001b[39m] does not contain all eigenvalues of \u001b[36mA\u001b[39m, then the\n",
       "\u001b[36m\u001b[1m  │\u001b[22m\u001b[39m  returned factorization will be a \u001b[4mtruncated\u001b[24m factorization."
      ]
     },
     "execution_count": 36,
     "metadata": {},
     "output_type": "execute_result"
    }
   ],
   "source": [
    "?eigen"
   ]
  },
  {
   "cell_type": "code",
   "execution_count": 37,
   "metadata": {},
   "outputs": [
    {
     "data": {
      "text/plain": [
       "Eigen{Float64,Float64,Array{Float64,2},Array{Float64,1}}\n",
       "eigenvalues:\n",
       "2-element Array{Float64,1}:\n",
       " -1.0\n",
       "  1.0\n",
       "eigenvectors:\n",
       "2×2 Array{Float64,2}:\n",
       " -0.707107  0.707107\n",
       "  0.707107  0.707107"
      ]
     },
     "execution_count": 37,
     "metadata": {},
     "output_type": "execute_result"
    }
   ],
   "source": [
    "eigen_A = eigen(A)"
   ]
  },
  {
   "cell_type": "code",
   "execution_count": 38,
   "metadata": {},
   "outputs": [
    {
     "data": {
      "text/plain": [
       "2-element Array{Float64,1}:\n",
       " -1.0\n",
       "  1.0"
      ]
     },
     "execution_count": 38,
     "metadata": {},
     "output_type": "execute_result"
    }
   ],
   "source": [
    "eigen_A.values"
   ]
  },
  {
   "cell_type": "code",
   "execution_count": 39,
   "metadata": {
    "scrolled": true
   },
   "outputs": [
    {
     "data": {
      "text/plain": [
       "2×2 Array{Float64,2}:\n",
       " -0.707107  0.707107\n",
       "  0.707107  0.707107"
      ]
     },
     "execution_count": 39,
     "metadata": {},
     "output_type": "execute_result"
    }
   ],
   "source": [
    "eigen_A.vectors"
   ]
  },
  {
   "cell_type": "code",
   "execution_count": 40,
   "metadata": {},
   "outputs": [
    {
     "data": {
      "text/plain": [
       "2-element Array{Float64,1}:\n",
       " -0.7071067811865475\n",
       "  0.7071067811865475"
      ]
     },
     "execution_count": 40,
     "metadata": {},
     "output_type": "execute_result"
    }
   ],
   "source": [
    "eigen_A.vectors[:, 1]"
   ]
  },
  {
   "cell_type": "markdown",
   "metadata": {},
   "source": [
    "# 2. Multiple dispatch"
   ]
  },
  {
   "cell_type": "code",
   "execution_count": 41,
   "metadata": {
    "scrolled": true
   },
   "outputs": [
    {
     "data": {
      "text/plain": [
       "f (generic function with 1 method)"
      ]
     },
     "execution_count": 41,
     "metadata": {},
     "output_type": "execute_result"
    }
   ],
   "source": [
    "f(x) = 2(x - 1)^2"
   ]
  },
  {
   "cell_type": "code",
   "execution_count": 42,
   "metadata": {},
   "outputs": [
    {
     "data": {
      "text/plain": [
       "2"
      ]
     },
     "execution_count": 42,
     "metadata": {},
     "output_type": "execute_result"
    }
   ],
   "source": [
    "f(0)"
   ]
  },
  {
   "cell_type": "code",
   "execution_count": 43,
   "metadata": {
    "scrolled": true
   },
   "outputs": [
    {
     "data": {
      "text/plain": [
       "0"
      ]
     },
     "execution_count": 43,
     "metadata": {},
     "output_type": "execute_result"
    }
   ],
   "source": [
    "f(1)"
   ]
  },
  {
   "cell_type": "code",
   "execution_count": 44,
   "metadata": {
    "scrolled": true
   },
   "outputs": [
    {
     "data": {
      "text/plain": [
       "2.0"
      ]
     },
     "execution_count": 44,
     "metadata": {},
     "output_type": "execute_result"
    }
   ],
   "source": [
    "f(0.0)"
   ]
  },
  {
   "cell_type": "code",
   "execution_count": null,
   "metadata": {},
   "outputs": [],
   "source": [
    "f(1.0)"
   ]
  },
  {
   "cell_type": "code",
   "execution_count": 45,
   "metadata": {
    "scrolled": true
   },
   "outputs": [
    {
     "ename": "MethodError",
     "evalue": "MethodError: no method matching -(::Array{Int64,2}, ::Int64)\nClosest candidates are:\n  -(!Matched::Complex{Bool}, ::Real) at complex.jl:298\n  -(!Matched::Missing, ::Number) at missing.jl:93\n  -(!Matched::Base.CoreLogging.LogLevel, ::Integer) at logging.jl:107\n  ...",
     "output_type": "error",
     "traceback": [
      "MethodError: no method matching -(::Array{Int64,2}, ::Int64)\nClosest candidates are:\n  -(!Matched::Complex{Bool}, ::Real) at complex.jl:298\n  -(!Matched::Missing, ::Number) at missing.jl:93\n  -(!Matched::Base.CoreLogging.LogLevel, ::Integer) at logging.jl:107\n  ...",
      "",
      "Stacktrace:",
      " [1] f(::Array{Int64,2}) at ./In[41]:1",
      " [2] top-level scope at In[45]:1"
     ]
    }
   ],
   "source": [
    "f(σ₁)"
   ]
  },
  {
   "cell_type": "code",
   "execution_count": 46,
   "metadata": {},
   "outputs": [
    {
     "data": {
      "text/plain": [
       "1"
      ]
     },
     "execution_count": 46,
     "metadata": {},
     "output_type": "execute_result"
    }
   ],
   "source": [
    "oneunit(0)"
   ]
  },
  {
   "cell_type": "code",
   "execution_count": 47,
   "metadata": {
    "scrolled": false
   },
   "outputs": [
    {
     "data": {
      "text/plain": [
       "1"
      ]
     },
     "execution_count": 47,
     "metadata": {},
     "output_type": "execute_result"
    }
   ],
   "source": [
    "oneunit(Int64)"
   ]
  },
  {
   "cell_type": "code",
   "execution_count": null,
   "metadata": {},
   "outputs": [],
   "source": [
    "[1 2; 3 4]"
   ]
  },
  {
   "cell_type": "code",
   "execution_count": 48,
   "metadata": {},
   "outputs": [
    {
     "data": {
      "text/plain": [
       "2×2 Array{Int64,2}:\n",
       " 1  0\n",
       " 0  1"
      ]
     },
     "execution_count": 48,
     "metadata": {},
     "output_type": "execute_result"
    }
   ],
   "source": [
    "oneunit([1 2; 3 4])"
   ]
  },
  {
   "cell_type": "code",
   "execution_count": 49,
   "metadata": {
    "scrolled": true
   },
   "outputs": [
    {
     "data": {
      "text/plain": [
       "g (generic function with 1 method)"
      ]
     },
     "execution_count": 49,
     "metadata": {},
     "output_type": "execute_result"
    }
   ],
   "source": [
    "g(x) = 2(x - oneunit(x))^2"
   ]
  },
  {
   "cell_type": "code",
   "execution_count": 50,
   "metadata": {},
   "outputs": [
    {
     "data": {
      "text/plain": [
       "2"
      ]
     },
     "execution_count": 50,
     "metadata": {},
     "output_type": "execute_result"
    }
   ],
   "source": [
    "g(0)"
   ]
  },
  {
   "cell_type": "code",
   "execution_count": null,
   "metadata": {},
   "outputs": [],
   "source": [
    "g(1)"
   ]
  },
  {
   "cell_type": "code",
   "execution_count": 51,
   "metadata": {},
   "outputs": [
    {
     "data": {
      "text/plain": [
       "2.0"
      ]
     },
     "execution_count": 51,
     "metadata": {},
     "output_type": "execute_result"
    }
   ],
   "source": [
    "g(0.0)"
   ]
  },
  {
   "cell_type": "code",
   "execution_count": 52,
   "metadata": {},
   "outputs": [
    {
     "data": {
      "text/plain": [
       "2×2 Array{Int64,2}:\n",
       "  4  -4\n",
       " -4   4"
      ]
     },
     "execution_count": 52,
     "metadata": {},
     "output_type": "execute_result"
    }
   ],
   "source": [
    "g(σ₁)"
   ]
  },
  {
   "cell_type": "code",
   "execution_count": 53,
   "metadata": {
    "scrolled": false
   },
   "outputs": [
    {
     "data": {
      "text/plain": [
       "CodeInfo(\n",
       "\u001b[90m\u001b[72G│╻  -\u001b[1G\u001b[39m\u001b[90m1 \u001b[39m1 ─ %1 = (Base.sub_int)(x, 1)\u001b[36m::Int64\u001b[39m\n",
       "\u001b[90m\u001b[72G││╻  *\u001b[1G\u001b[39m\u001b[90m  \u001b[39m│   %2 = (Base.mul_int)(%1, %1)\u001b[36m::Int64\u001b[39m\n",
       "\u001b[90m\u001b[72G│╻  *\u001b[1G\u001b[39m\u001b[90m  \u001b[39m│   %3 = (Base.mul_int)(2, %2)\u001b[36m::Int64\u001b[39m\n",
       "\u001b[90m\u001b[72G│  \u001b[1G\u001b[39m\u001b[90m  \u001b[39m└──      return %3\n",
       ") => Int64"
      ]
     },
     "execution_count": 53,
     "metadata": {},
     "output_type": "execute_result"
    }
   ],
   "source": [
    "@code_typed f(0)"
   ]
  },
  {
   "cell_type": "code",
   "execution_count": null,
   "metadata": {},
   "outputs": [],
   "source": [
    "@code_typed f(0.0)"
   ]
  },
  {
   "cell_type": "code",
   "execution_count": null,
   "metadata": {},
   "outputs": [],
   "source": [
    "@code_warntype f(0)"
   ]
  },
  {
   "cell_type": "code",
   "execution_count": null,
   "metadata": {},
   "outputs": [],
   "source": [
    "@code_lowered f(0)"
   ]
  },
  {
   "cell_type": "code",
   "execution_count": null,
   "metadata": {},
   "outputs": [],
   "source": [
    "@code_llvm f(0)"
   ]
  },
  {
   "cell_type": "code",
   "execution_count": 54,
   "metadata": {},
   "outputs": [
    {
     "name": "stdout",
     "output_type": "stream",
     "text": [
      "\t.text\n",
      "; Function f {\n",
      "; Location: In[41]:1\n",
      "; Function -; {\n",
      "; Location: In[41]:1\n",
      "\taddq\t$-1, %rdi\n",
      ";}\n",
      "; Function *; {\n",
      "; Location: int.jl:54\n",
      "\timulq\t%rdi, %rdi\n",
      "\tleaq\t(%rdi,%rdi), %rax\n",
      ";}\n",
      "\tretq\n",
      "\tnopl\t(%rax)\n",
      ";}\n"
     ]
    }
   ],
   "source": [
    "@code_native f(0)"
   ]
  },
  {
   "cell_type": "code",
   "execution_count": null,
   "metadata": {
    "scrolled": true
   },
   "outputs": [],
   "source": [
    "@code_typed g(0)"
   ]
  },
  {
   "cell_type": "code",
   "execution_count": null,
   "metadata": {
    "scrolled": true
   },
   "outputs": [],
   "source": [
    "@code_typed g(0.0)"
   ]
  },
  {
   "cell_type": "code",
   "execution_count": null,
   "metadata": {},
   "outputs": [],
   "source": [
    "g(im)"
   ]
  },
  {
   "cell_type": "code",
   "execution_count": null,
   "metadata": {},
   "outputs": [],
   "source": [
    "@code_typed g(im)"
   ]
  },
  {
   "cell_type": "code",
   "execution_count": null,
   "metadata": {},
   "outputs": [],
   "source": [
    "@code_typed g(σ₁)"
   ]
  },
  {
   "cell_type": "code",
   "execution_count": null,
   "metadata": {},
   "outputs": [],
   "source": [
    "@code_warntype g(σ₁)"
   ]
  },
  {
   "cell_type": "code",
   "execution_count": null,
   "metadata": {
    "scrolled": true
   },
   "outputs": [],
   "source": [
    "@code_lowered g(σ₁)"
   ]
  },
  {
   "cell_type": "code",
   "execution_count": null,
   "metadata": {
    "scrolled": true
   },
   "outputs": [],
   "source": [
    "@code_llvm g(σ₁)"
   ]
  },
  {
   "cell_type": "code",
   "execution_count": null,
   "metadata": {},
   "outputs": [],
   "source": [
    "@code_native g(σ₁)"
   ]
  },
  {
   "cell_type": "code",
   "execution_count": 55,
   "metadata": {},
   "outputs": [
    {
     "data": {
      "text/html": [
       "19 methods for generic function <b>eigen</b>:<ul><li> eigen<i>{T}</i>(A::<b>SymTridiagonal{T,V} where V<:AbstractArray{T,1}</b>) in LinearAlgebra at <a href=\"file:///buildworker/worker/package_linux64/build/usr/share/julia/stdlib/v1.0/LinearAlgebra/src/tridiag.jl\" target=\"_blank\">/buildworker/worker/package_linux64/build/usr/share/julia/stdlib/v1.0/LinearAlgebra/src/tridiag.jl:201</a></li> <li> eigen<i>{T}</i>(A::<b>SymTridiagonal{T,V} where V<:AbstractArray{T,1}</b>, irange::<b>UnitRange</b>) in LinearAlgebra at <a href=\"file:///buildworker/worker/package_linux64/build/usr/share/julia/stdlib/v1.0/LinearAlgebra/src/tridiag.jl\" target=\"_blank\">/buildworker/worker/package_linux64/build/usr/share/julia/stdlib/v1.0/LinearAlgebra/src/tridiag.jl:205</a></li> <li> eigen<i>{T}</i>(A::<b>SymTridiagonal{T,V} where V<:AbstractArray{T,1}</b>, vl::<b>Real</b>, vu::<b>Real</b>) in LinearAlgebra at <a href=\"file:///buildworker/worker/package_linux64/build/usr/share/julia/stdlib/v1.0/LinearAlgebra/src/tridiag.jl\" target=\"_blank\">/buildworker/worker/package_linux64/build/usr/share/julia/stdlib/v1.0/LinearAlgebra/src/tridiag.jl:210</a></li> <li> eigen(A::<b>LinearAlgebra.AbstractTriangular</b>) in LinearAlgebra at <a href=\"file:///buildworker/worker/package_linux64/build/usr/share/julia/stdlib/v1.0/LinearAlgebra/src/triangular.jl\" target=\"_blank\">/buildworker/worker/package_linux64/build/usr/share/julia/stdlib/v1.0/LinearAlgebra/src/triangular.jl:2466</a></li> <li> eigen<i>{T}</i>(A::<b>Union{DenseArray{T,2}, ReinterpretArray{T,2,S,A} where S where A<:Union{SubArray{T,N,A,I,true} where I<:Tuple{AbstractUnitRange,Vararg{Any,N} where N} where A<:DenseArray where N where T, DenseArray}, ReshapedArray{T,2,A,MI} where MI<:Tuple{Vararg{SignedMultiplicativeInverse{Int64},N} where N} where A<:Union{ReinterpretArray{T,N,S,A} where S where A<:Union{SubArray{T,N,A,I,true} where I<:Tuple{AbstractUnitRange,Vararg{Any,N} where N} where A<:DenseArray where N where T, DenseArray} where N where T, SubArray{T,N,A,I,true} where I<:Tuple{AbstractUnitRange,Vararg{Any,N} where N} where A<:DenseArray where N where T, DenseArray}, SubArray{T,2,A,I,L} where L where I<:Tuple{Vararg{Union{Int64, AbstractRange{Int64}, AbstractCartesianIndex},N} where N} where A<:Union{ReinterpretArray{T,N,S,A} where S where A<:Union{SubArray{T,N,A,I,true} where I<:Tuple{AbstractUnitRange,Vararg{Any,N} where N} where A<:DenseArray where N where T, DenseArray} where N where T, ReshapedArray{T,N,A,MI} where MI<:Tuple{Vararg{SignedMultiplicativeInverse{Int64},N} where N} where A<:Union{ReinterpretArray{T,N,S,A} where S where A<:Union{SubArray{T,N,A,I,true} where I<:Tuple{AbstractUnitRange,Vararg{Any,N} where N} where A<:DenseArray where N where T, DenseArray} where N where T, SubArray{T,N,A,I,true} where I<:Tuple{AbstractUnitRange,Vararg{Any,N} where N} where A<:DenseArray where N where T, DenseArray} where N where T, DenseArray}}</b>; <i>permute, scale</i>) in LinearAlgebra at <a href=\"file:///buildworker/worker/package_linux64/build/usr/share/julia/stdlib/v1.0/LinearAlgebra/src/eigen.jl\" target=\"_blank\">/buildworker/worker/package_linux64/build/usr/share/julia/stdlib/v1.0/LinearAlgebra/src/eigen.jl:116</a></li> <li> eigen(x::<b>Number</b>) in LinearAlgebra at <a href=\"file:///buildworker/worker/package_linux64/build/usr/share/julia/stdlib/v1.0/LinearAlgebra/src/eigen.jl\" target=\"_blank\">/buildworker/worker/package_linux64/build/usr/share/julia/stdlib/v1.0/LinearAlgebra/src/eigen.jl:120</a></li> <li> eigen(A::<b>Hermitian{#s174,#s173} where #s173<:(StaticArrays.StaticArray{Tuple{N,M},T,2} where T where M where N) where #s174<:Real</b>; <i>kwargs...</i>) in StaticArrays at <a href=\"file:///home/kamilfvt/.julia/packages/StaticArrays/WmJnA/src/eigen.jl\" target=\"_blank\">/home/kamilfvt/.julia/packages/StaticArrays/WmJnA/src/eigen.jl:399</a></li> <li> eigen(A::<b>Hermitian{#s174,#s173} where #s173<:(StaticArrays.StaticArray{Tuple{N,M},T,2} where T where M where N) where #s174<:Complex</b>; <i>kwargs...</i>) in StaticArrays at <a href=\"file:///home/kamilfvt/.julia/packages/StaticArrays/WmJnA/src/eigen.jl\" target=\"_blank\">/home/kamilfvt/.julia/packages/StaticArrays/WmJnA/src/eigen.jl:400</a></li> <li> eigen(A::<b>Symmetric{#s174,#s173} where #s173<:(StaticArrays.StaticArray{Tuple{N,M},T,2} where T where M where N) where #s174<:Real</b>; <i>kwargs...</i>) in StaticArrays at <a href=\"file:///home/kamilfvt/.julia/packages/StaticArrays/WmJnA/src/eigen.jl\" target=\"_blank\">/home/kamilfvt/.julia/packages/StaticArrays/WmJnA/src/eigen.jl:401</a></li> <li> eigen(A::<b>Symmetric{#s174,#s173} where #s173<:(StaticArrays.StaticArray{Tuple{N,M},T,2} where T where M where N) where #s174<:Complex</b>; <i>kwargs...</i>) in StaticArrays at <a href=\"file:///home/kamilfvt/.julia/packages/StaticArrays/WmJnA/src/eigen.jl\" target=\"_blank\">/home/kamilfvt/.julia/packages/StaticArrays/WmJnA/src/eigen.jl:402</a></li> <li> eigen(A::<b>Union{Hermitian{T,S}, Hermitian{Complex{T},S}, Symmetric{T,S}} where S where T<:Real</b>) in LinearAlgebra at <a href=\"file:///buildworker/worker/package_linux64/build/usr/share/julia/stdlib/v1.0/LinearAlgebra/src/symmetric.jl\" target=\"_blank\">/buildworker/worker/package_linux64/build/usr/share/julia/stdlib/v1.0/LinearAlgebra/src/symmetric.jl:490</a></li> <li> eigen(A::<b>Union{Hermitian{T,S}, Hermitian{Complex{T},S}, Symmetric{T,S}} where S where T<:Real</b>, irange::<b>UnitRange</b>) in LinearAlgebra at <a href=\"file:///buildworker/worker/package_linux64/build/usr/share/julia/stdlib/v1.0/LinearAlgebra/src/symmetric.jl\" target=\"_blank\">/buildworker/worker/package_linux64/build/usr/share/julia/stdlib/v1.0/LinearAlgebra/src/symmetric.jl:515</a></li> <li> eigen(D::<b>Diagonal</b>; <i>permute, scale</i>) in LinearAlgebra at <a href=\"file:///buildworker/worker/package_linux64/build/usr/share/julia/stdlib/v1.0/LinearAlgebra/src/diagonal.jl\" target=\"_blank\">/buildworker/worker/package_linux64/build/usr/share/julia/stdlib/v1.0/LinearAlgebra/src/diagonal.jl:488</a></li> <li> eigen(M::<b>Bidiagonal</b>) in LinearAlgebra at <a href=\"file:///buildworker/worker/package_linux64/build/usr/share/julia/stdlib/v1.0/LinearAlgebra/src/bidiag.jl\" target=\"_blank\">/buildworker/worker/package_linux64/build/usr/share/julia/stdlib/v1.0/LinearAlgebra/src/bidiag.jl:652</a></li> <li> eigen(A::<b>SparseArrays.SparseMatrixCSC</b>) in SparseArrays at <a href=\"file:///buildworker/worker/package_linux64/build/usr/share/julia/stdlib/v1.0/SparseArrays/src/linalg.jl\" target=\"_blank\">/buildworker/worker/package_linux64/build/usr/share/julia/stdlib/v1.0/SparseArrays/src/linalg.jl:1113</a></li> <li> eigen(A::<b>StaticArrays.StaticArray{Tuple{N,M},T,2} where T where M where N</b>; <i>permute, scale</i>) in StaticArrays at <a href=\"file:///home/kamilfvt/.julia/packages/StaticArrays/WmJnA/src/eigen.jl\" target=\"_blank\">/home/kamilfvt/.julia/packages/StaticArrays/WmJnA/src/eigen.jl:394</a></li> <li> eigen<i>{TA, TB}</i>(A::<b>AbstractArray{TA,2}</b>, B::<b>AbstractArray{TB,2}</b>) in LinearAlgebra at <a href=\"file:///buildworker/worker/package_linux64/build/usr/share/julia/stdlib/v1.0/LinearAlgebra/src/eigen.jl\" target=\"_blank\">/buildworker/worker/package_linux64/build/usr/share/julia/stdlib/v1.0/LinearAlgebra/src/eigen.jl:382</a></li> <li> eigen(A::<b>Number</b>, B::<b>Number</b>) in LinearAlgebra at <a href=\"file:///buildworker/worker/package_linux64/build/usr/share/julia/stdlib/v1.0/LinearAlgebra/src/eigen.jl\" target=\"_blank\">/buildworker/worker/package_linux64/build/usr/share/julia/stdlib/v1.0/LinearAlgebra/src/eigen.jl:386</a></li> <li> eigen(A::<b>Union{Hermitian{T,S}, Hermitian{Complex{T},S}, Symmetric{T,S}} where S where T<:Real</b>, vl::<b>Real</b>, vh::<b>Real</b>) in LinearAlgebra at <a href=\"file:///buildworker/worker/package_linux64/build/usr/share/julia/stdlib/v1.0/LinearAlgebra/src/symmetric.jl\" target=\"_blank\">/buildworker/worker/package_linux64/build/usr/share/julia/stdlib/v1.0/LinearAlgebra/src/symmetric.jl:541</a></li> </ul>"
      ],
      "text/plain": [
       "# 19 methods for generic function \"eigen\":\n",
       "[1] eigen(A::SymTridiagonal{T,V} where V<:AbstractArray{T,1}) where T in LinearAlgebra at /buildworker/worker/package_linux64/build/usr/share/julia/stdlib/v1.0/LinearAlgebra/src/tridiag.jl:201\n",
       "[2] eigen(A::SymTridiagonal{T,V} where V<:AbstractArray{T,1}, irange::UnitRange) where T in LinearAlgebra at /buildworker/worker/package_linux64/build/usr/share/julia/stdlib/v1.0/LinearAlgebra/src/tridiag.jl:205\n",
       "[3] eigen(A::SymTridiagonal{T,V} where V<:AbstractArray{T,1}, vl::Real, vu::Real) where T in LinearAlgebra at /buildworker/worker/package_linux64/build/usr/share/julia/stdlib/v1.0/LinearAlgebra/src/tridiag.jl:210\n",
       "[4] eigen(A::LinearAlgebra.AbstractTriangular) in LinearAlgebra at /buildworker/worker/package_linux64/build/usr/share/julia/stdlib/v1.0/LinearAlgebra/src/triangular.jl:2466\n",
       "[5] eigen(A::Union{DenseArray{T,2}, ReinterpretArray{T,2,S,A} where S where A<:Union{SubArray{T,N,A,I,true} where I<:Tuple{AbstractUnitRange,Vararg{Any,N} where N} where A<:DenseArray where N where T, DenseArray}, ReshapedArray{T,2,A,MI} where MI<:Tuple{Vararg{SignedMultiplicativeInverse{Int64},N} where N} where A<:Union{ReinterpretArray{T,N,S,A} where S where A<:Union{SubArray{T,N,A,I,true} where I<:Tuple{AbstractUnitRange,Vararg{Any,N} where N} where A<:DenseArray where N where T, DenseArray} where N where T, SubArray{T,N,A,I,true} where I<:Tuple{AbstractUnitRange,Vararg{Any,N} where N} where A<:DenseArray where N where T, DenseArray}, SubArray{T,2,A,I,L} where L where I<:Tuple{Vararg{Union{Int64, AbstractRange{Int64}, AbstractCartesianIndex},N} where N} where A<:Union{ReinterpretArray{T,N,S,A} where S where A<:Union{SubArray{T,N,A,I,true} where I<:Tuple{AbstractUnitRange,Vararg{Any,N} where N} where A<:DenseArray where N where T, DenseArray} where N where T, ReshapedArray{T,N,A,MI} where MI<:Tuple{Vararg{SignedMultiplicativeInverse{Int64},N} where N} where A<:Union{ReinterpretArray{T,N,S,A} where S where A<:Union{SubArray{T,N,A,I,true} where I<:Tuple{AbstractUnitRange,Vararg{Any,N} where N} where A<:DenseArray where N where T, DenseArray} where N where T, SubArray{T,N,A,I,true} where I<:Tuple{AbstractUnitRange,Vararg{Any,N} where N} where A<:DenseArray where N where T, DenseArray} where N where T, DenseArray}}; permute, scale) where T in LinearAlgebra at /buildworker/worker/package_linux64/build/usr/share/julia/stdlib/v1.0/LinearAlgebra/src/eigen.jl:116\n",
       "[6] eigen(x::Number) in LinearAlgebra at /buildworker/worker/package_linux64/build/usr/share/julia/stdlib/v1.0/LinearAlgebra/src/eigen.jl:120\n",
       "[7] eigen(A::Hermitian{#s174,#s173} where #s173<:(StaticArrays.StaticArray{Tuple{N,M},T,2} where T where M where N) where #s174<:Real; kwargs...) in StaticArrays at /home/kamilfvt/.julia/packages/StaticArrays/WmJnA/src/eigen.jl:399\n",
       "[8] eigen(A::Hermitian{#s174,#s173} where #s173<:(StaticArrays.StaticArray{Tuple{N,M},T,2} where T where M where N) where #s174<:Complex; kwargs...) in StaticArrays at /home/kamilfvt/.julia/packages/StaticArrays/WmJnA/src/eigen.jl:400\n",
       "[9] eigen(A::Symmetric{#s174,#s173} where #s173<:(StaticArrays.StaticArray{Tuple{N,M},T,2} where T where M where N) where #s174<:Real; kwargs...) in StaticArrays at /home/kamilfvt/.julia/packages/StaticArrays/WmJnA/src/eigen.jl:401\n",
       "[10] eigen(A::Symmetric{#s174,#s173} where #s173<:(StaticArrays.StaticArray{Tuple{N,M},T,2} where T where M where N) where #s174<:Complex; kwargs...) in StaticArrays at /home/kamilfvt/.julia/packages/StaticArrays/WmJnA/src/eigen.jl:402\n",
       "[11] eigen(A::Union{Hermitian{T,S}, Hermitian{Complex{T},S}, Symmetric{T,S}} where S where T<:Real) in LinearAlgebra at /buildworker/worker/package_linux64/build/usr/share/julia/stdlib/v1.0/LinearAlgebra/src/symmetric.jl:490\n",
       "[12] eigen(A::Union{Hermitian{T,S}, Hermitian{Complex{T},S}, Symmetric{T,S}} where S where T<:Real, irange::UnitRange) in LinearAlgebra at /buildworker/worker/package_linux64/build/usr/share/julia/stdlib/v1.0/LinearAlgebra/src/symmetric.jl:515\n",
       "[13] eigen(D::Diagonal; permute, scale) in LinearAlgebra at /buildworker/worker/package_linux64/build/usr/share/julia/stdlib/v1.0/LinearAlgebra/src/diagonal.jl:488\n",
       "[14] eigen(M::Bidiagonal) in LinearAlgebra at /buildworker/worker/package_linux64/build/usr/share/julia/stdlib/v1.0/LinearAlgebra/src/bidiag.jl:652\n",
       "[15] eigen(A::SparseArrays.SparseMatrixCSC) in SparseArrays at /buildworker/worker/package_linux64/build/usr/share/julia/stdlib/v1.0/SparseArrays/src/linalg.jl:1113\n",
       "[16] eigen(A::StaticArrays.StaticArray{Tuple{N,M},T,2} where T where M where N; permute, scale) in StaticArrays at /home/kamilfvt/.julia/packages/StaticArrays/WmJnA/src/eigen.jl:394\n",
       "[17] eigen(A::AbstractArray{TA,2}, B::AbstractArray{TB,2}) where {TA, TB} in LinearAlgebra at /buildworker/worker/package_linux64/build/usr/share/julia/stdlib/v1.0/LinearAlgebra/src/eigen.jl:382\n",
       "[18] eigen(A::Number, B::Number) in LinearAlgebra at /buildworker/worker/package_linux64/build/usr/share/julia/stdlib/v1.0/LinearAlgebra/src/eigen.jl:386\n",
       "[19] eigen(A::Union{Hermitian{T,S}, Hermitian{Complex{T},S}, Symmetric{T,S}} where S where T<:Real, vl::Real, vh::Real) in LinearAlgebra at /buildworker/worker/package_linux64/build/usr/share/julia/stdlib/v1.0/LinearAlgebra/src/symmetric.jl:541"
      ]
     },
     "execution_count": 55,
     "metadata": {},
     "output_type": "execute_result"
    }
   ],
   "source": [
    "methods(eigen)"
   ]
  },
  {
   "cell_type": "code",
   "execution_count": null,
   "metadata": {},
   "outputs": [],
   "source": [
    "eigen(A)"
   ]
  },
  {
   "cell_type": "markdown",
   "metadata": {},
   "source": [
    "# 3. Random numbers and matrics."
   ]
  },
  {
   "cell_type": "code",
   "execution_count": null,
   "metadata": {},
   "outputs": [],
   "source": [
    "rand(5)"
   ]
  },
  {
   "cell_type": "code",
   "execution_count": null,
   "metadata": {},
   "outputs": [],
   "source": [
    "randn(5)"
   ]
  },
  {
   "cell_type": "code",
   "execution_count": null,
   "metadata": {},
   "outputs": [],
   "source": [
    "rand(3, 3)"
   ]
  },
  {
   "cell_type": "code",
   "execution_count": null,
   "metadata": {},
   "outputs": [],
   "source": [
    "rand(3, 3, 3)"
   ]
  },
  {
   "cell_type": "code",
   "execution_count": null,
   "metadata": {},
   "outputs": [],
   "source": [
    "1:4"
   ]
  },
  {
   "cell_type": "code",
   "execution_count": null,
   "metadata": {},
   "outputs": [],
   "source": [
    "A = rand(1:4, 3, 3)"
   ]
  },
  {
   "cell_type": "code",
   "execution_count": null,
   "metadata": {},
   "outputs": [],
   "source": [
    "distinguishable_colors(20)"
   ]
  },
  {
   "cell_type": "code",
   "execution_count": null,
   "metadata": {},
   "outputs": [],
   "source": [
    "palette = distinguishable_colors(20)"
   ]
  },
  {
   "cell_type": "code",
   "execution_count": null,
   "metadata": {},
   "outputs": [],
   "source": [
    "rand(palette, 5, 5)"
   ]
  },
  {
   "cell_type": "markdown",
   "metadata": {},
   "source": [
    "# 4. There are lies, big lies and benchmarks"
   ]
  },
  {
   "cell_type": "markdown",
   "metadata": {},
   "source": [
    "Examples taken from\n",
    "[*Julia is fast*](https://github.com/JuliaComputing/JuliaBoxTutorials/blob/master/introductory-tutorials/intro-to-julia/09.%20Julia%20is%20fast.ipynb) at JuliaComputing GitHub account."
   ]
  },
  {
   "cell_type": "markdown",
   "metadata": {},
   "source": [
    "We test speed of Julia using simple case of function summing elements of vector $V$ with $N = 10^{ 7 }$ random elements\n",
    "\\begin{equation}\n",
    "    \\textrm{sum}(V) = \\sum_{ i = 1 }^{ N } V_{ i }.\n",
    "\\end{equation}"
   ]
  },
  {
   "cell_type": "markdown",
   "metadata": {},
   "source": [
    "## Function in Julia are faster that \"free\" code."
   ]
  },
  {
   "cell_type": "code",
   "execution_count": null,
   "metadata": {},
   "outputs": [],
   "source": [
    "gr()\n",
    "V = rand(10^7)  # 1D vector of random numbers, uniform on [0,1)"
   ]
  },
  {
   "cell_type": "code",
   "execution_count": null,
   "metadata": {},
   "outputs": [],
   "source": [
    "sum(V) / 10^7"
   ]
  },
  {
   "cell_type": "markdown",
   "metadata": {},
   "source": [
    "## 4.1 The C language, by `gcc`"
   ]
  },
  {
   "cell_type": "markdown",
   "metadata": {},
   "source": [
    "I don't write this C code."
   ]
  },
  {
   "cell_type": "code",
   "execution_count": null,
   "metadata": {},
   "outputs": [],
   "source": [
    "C_code = \"\"\"\n",
    "#include <stddef.h>\n",
    "double c_sum(size_t n, double *X) {\n",
    "    double s = 0.0;\n",
    "    for (size_t i = 0; i < n; ++i) {\n",
    "        s += X[i];\n",
    "    }\n",
    "    return s;\n",
    "}\n",
    "\"\"\"\n",
    "\n",
    "const Clib = tempname()   # make a temporary file\n",
    "\n",
    "\n",
    "# compile to a shared library by piping C_code to gcc\n",
    "# (works only if you have gcc installed):\n",
    "\n",
    "open(`gcc -fPIC -O3 -msse3 -xc -shared -o $(Clib * \".\" * Libdl.dlext) -`, \"w\") do f\n",
    "    print(f, C_code) \n",
    "end\n",
    "\n",
    "# define a Julia function that calls the C function:\n",
    "c_sum(X::Array{Float64}) = ccall((\"c_sum\", Clib), Float64, (Csize_t, Ptr{Float64}), length(X), X)"
   ]
  },
  {
   "cell_type": "markdown",
   "metadata": {},
   "source": [
    "Approx"
   ]
  },
  {
   "cell_type": "code",
   "execution_count": null,
   "metadata": {},
   "outputs": [],
   "source": [
    "(c_sum(V) - sum(V)) / 10^7"
   ]
  },
  {
   "cell_type": "code",
   "execution_count": null,
   "metadata": {},
   "outputs": [],
   "source": [
    "c_bench = @benchmark c_sum($V)"
   ]
  },
  {
   "cell_type": "code",
   "execution_count": null,
   "metadata": {
    "scrolled": false
   },
   "outputs": [],
   "source": [
    "d_min = Dict(\"C\" => minimum(c_bench.times) / 1e6)  # We creat efficient dictionary\n",
    "d_med = Dict(\"C\" => median(c_bench.times) / 1e6)"
   ]
  },
  {
   "cell_type": "code",
   "execution_count": null,
   "metadata": {},
   "outputs": [],
   "source": [
    "t = c_bench.times / 1e6"
   ]
  },
  {
   "cell_type": "code",
   "execution_count": null,
   "metadata": {
    "scrolled": true
   },
   "outputs": [],
   "source": [
    "min_t = 3.0\n",
    "max_t = 12.0\n",
    "\n",
    "histogram(t, bins=500,\n",
    "             title=\"Benchmarks for hand-written C\",\n",
    "             xlim=(min_t, max_t),\n",
    "             xlabel=\"milliseconds\", ylabel=\"count\", label=\"\")"
   ]
  },
  {
   "cell_type": "markdown",
   "metadata": {},
   "source": [
    "## 4.2 C with `gcc -ffast-math`"
   ]
  },
  {
   "cell_type": "markdown",
   "metadata": {},
   "source": [
    "I don't write this code either."
   ]
  },
  {
   "cell_type": "code",
   "execution_count": null,
   "metadata": {},
   "outputs": [],
   "source": [
    "const Clib_fastmath = tempname()   # make a temporary file\n",
    "\n",
    "# The same as above but with a -ffast-math flag added\n",
    "open(`gcc -fPIC -O3 -msse3 -xc -shared -ffast-math -o $(Clib_fastmath * \".\" * Libdl.dlext) -`, \"w\") do f\n",
    "    print(f, C_code) \n",
    "end\n",
    "\n",
    "# define a Julia function that calls the C function:\n",
    "c_sum_fastmath(X::Array{Float64}) = ccall((\"c_sum\", Clib_fastmath), Float64, (Csize_t, Ptr{Float64}), length(X), X)"
   ]
  },
  {
   "cell_type": "code",
   "execution_count": null,
   "metadata": {
    "scrolled": false
   },
   "outputs": [],
   "source": [
    "c_fastmath_bench = @benchmark $c_sum_fastmath($V)\n",
    "d_min[\"C -ffast-math\"] = minimum(c_fastmath_bench.times) / 1e6  # in milliseconds\n",
    "d_med[\"C -ffast-math\"] = median(c_fastmath_bench.times) / 1e6\n",
    "\n",
    "t = c_fastmath_bench.times / 1e6 # times in milliseconds\n",
    "\n",
    "histogram(t, bins=500,\n",
    "             title=\"Benchmarks for hand-written C with -ffast-math\",\n",
    "             xlim=(min_t, max_t),\n",
    "             xlabel=\"milliseconds\", ylabel=\"count\", label=\"\")"
   ]
  },
  {
   "cell_type": "code",
   "execution_count": null,
   "metadata": {},
   "outputs": [],
   "source": [
    "min_t = 4.0\n",
    "max_t = 12.0\n",
    "\n",
    "histogram(t, bins=500,\n",
    "             title=\"Benchmarks for hand-written C with -ffast-math\",\n",
    "             xlim=(min_t, max_t),\n",
    "             xlabel=\"milliseconds\", ylabel=\"count\", label=\"\")"
   ]
  },
  {
   "cell_type": "markdown",
   "metadata": {},
   "source": [
    "## 4.3 Julia (built-in)"
   ]
  },
  {
   "cell_type": "code",
   "execution_count": null,
   "metadata": {},
   "outputs": [],
   "source": [
    "@which sum(V)  # This code on GitHub tell you probably nothing"
   ]
  },
  {
   "cell_type": "code",
   "execution_count": null,
   "metadata": {
    "scrolled": true
   },
   "outputs": [],
   "source": [
    "j_bench = @benchmark sum($V)\n",
    "d_min[\"Julia built-in\"] = minimum(j_bench.times) / 1e6  # in milliseconds\n",
    "d_med[\"Julia built-in\"] = median(j_bench.times) / 1e6\n",
    "\n",
    "t = j_bench.times / 1e6 # times in milliseconds\n",
    "\n",
    "histogram(t, bins=500,\n",
    "             title=\"Benchmarks for Julia built-in sum function\",\n",
    "             xlim=(min_t, max_t),\n",
    "             xlabel=\"milliseconds\", ylabel=\"count\", label=\"\")"
   ]
  },
  {
   "cell_type": "code",
   "execution_count": null,
   "metadata": {},
   "outputs": [],
   "source": [
    "min_t = 4.0\n",
    "max_t = 12.0\n",
    "\n",
    "histogram(t, bins=500,\n",
    "             title=\"Benchmarks for Julia built-in sum function\",\n",
    "             xlim=(min_t, max_t),\n",
    "             xlabel=\"milliseconds\", ylabel=\"count\", label=\"\")"
   ]
  },
  {
   "cell_type": "markdown",
   "metadata": {},
   "source": [
    "## 4.4 Julia, hand-written"
   ]
  },
  {
   "cell_type": "code",
   "execution_count": null,
   "metadata": {},
   "outputs": [],
   "source": [
    "function my_sum(V)   \n",
    "    s = 0.0 # s = zero(eltype(a))\n",
    "    for v in V\n",
    "        s += v\n",
    "    end\n",
    "    s\n",
    "end\n",
    "\n",
    "j_bench_hand = @benchmark my_sum($V)\n",
    "d_min[\"Julia hand-written\"] = minimum(j_bench_hand.times) / 1e6  # in milliseconds\n",
    "d_med[\"Julia hand-written\"] = median(j_bench_hand.times) / 1e6\n",
    "\n",
    "t = j_bench_hand.times / 1e6  # times in milliseconds\n",
    "\n",
    "histogram(t, bins=500,\n",
    "             title=\"Benchmarks for Julia hand-written sum function\",\n",
    "             xlim=(min_t, max_t),\n",
    "             xlabel=\"milliseconds\", ylabel=\"count\", label=\"\")"
   ]
  },
  {
   "cell_type": "code",
   "execution_count": null,
   "metadata": {},
   "outputs": [],
   "source": [
    "min_t = 4\n",
    "max_t = 12\n",
    "\n",
    "histogram(t, bins=500,\n",
    "             title=\"Benchmarks for Julia hand-written sum function\",\n",
    "             xlim=(min_t, max_t),\n",
    "             xlabel=\"milliseconds\", ylabel=\"count\", label=\"\")"
   ]
  },
  {
   "cell_type": "markdown",
   "metadata": {},
   "source": [
    "## 4.5 Julia hand-written with `@simd`"
   ]
  },
  {
   "cell_type": "code",
   "execution_count": null,
   "metadata": {},
   "outputs": [],
   "source": [
    "?@simd"
   ]
  },
  {
   "cell_type": "code",
   "execution_count": null,
   "metadata": {},
   "outputs": [],
   "source": [
    "function my_sum_simd(V)   \n",
    "    s = 0.0  # s = zero(eltype(A))\n",
    "    @simd for v in V\n",
    "        s += v\n",
    "    end\n",
    "    s\n",
    "end\n",
    "\n",
    "j_bench_hand_simd = @benchmark my_sum_simd($V)\n",
    "d_min[\"Julia hand-written simd\"] = minimum(j_bench_hand_simd.times) / 1e6  # in milliseconds\n",
    "d_med[\"Julia hand-written simd\"] = median(j_bench_hand_simd.times) / 1e6\n",
    "\n",
    "t = j_bench_hand_simd.times / 1e6 # times in milliseconds\n",
    "\n",
    "histogram(t, bins=500,\n",
    "             title=\"Benchmarks for Julia hand-written sum function with @smid\",\n",
    "             xlim=(min_t, max_t),\n",
    "             xlabel=\"milliseconds\", ylabel=\"count\", label=\"\")"
   ]
  },
  {
   "cell_type": "markdown",
   "metadata": {},
   "source": [
    "### C with `gcc -ffast-math again`"
   ]
  },
  {
   "cell_type": "code",
   "execution_count": null,
   "metadata": {},
   "outputs": [],
   "source": [
    "t = c_fastmath_bench.times / 1e6  # times in milliseconds\n",
    "\n",
    "histogram(t, bins=500,\n",
    "             title=\"Benchmarks for Julia hand-written sum function with @smid\",\n",
    "             xlim=(min_t, max_t),\n",
    "             xlabel=\"milliseconds\", ylabel=\"count\", label=\"\")"
   ]
  },
  {
   "cell_type": "markdown",
   "metadata": {},
   "source": [
    "## 4.6 Sumary"
   ]
  },
  {
   "cell_type": "code",
   "execution_count": null,
   "metadata": {},
   "outputs": [],
   "source": [
    "println(\"Median of time of computing sum(V)\")\n",
    "for (key, value) in sort(collect(d_med), by=last)\n",
    "    println(rpad(key, 26, \".\"), lpad(round(value; digits=5), 6, \".\"))\n",
    "end\n",
    "\n",
    "println(\"\\n\\n\\nMinimal time of computing sum(V)\")\n",
    "for (key, value) in sort(collect(d_min), by=last)\n",
    "    println(rpad(key, 26, \".\"), lpad(round(value; digits=5), 6, \".\"))\n",
    "end"
   ]
  },
  {
   "cell_type": "markdown",
   "metadata": {},
   "source": [
    "# Don't work, still"
   ]
  },
  {
   "cell_type": "code",
   "execution_count": null,
   "metadata": {},
   "outputs": [],
   "source": [
    "function ksintegrate(u₀, Lₓ, Δt, Nsteps, nsave);\n",
    "    uⁿ = (1+0im)*u₀                      # force u to be complex\n",
    "    Nₓ = length(uⁿ)                       # number of gridpoints\n",
    "    kₓ = vcat(0:Nₓ/2 - 1, 0:0, -Nₓ/2+1:-1)  # integer wavenumbers: exp(2πikₓ x/L)\n",
    "    α  = 2*pi*kₓ/Lₓ                       # real wavenumbers:    exp(iαx)\n",
    "    D  = 1im*α                           # spectral D = d/dx operator \n",
    "    L  = α.^2 - α.^4                     # spectral L = -D^2 - D^4 operator\n",
    "    G  = -0.5*D                          # spectral -1/2 D operator\n",
    "    \n",
    "    Nsave = div(Nsteps, nsave)+1         # number of saved u's, including t=0\n",
    "    t = (0:Nsave-1)*(Δt*nsave)           # times of saved u's\n",
    "    U = zeros(Nsave, Nₓ)                 # matrix of u(tᵢ, xⱼ) values\n",
    "    U[1,:] = real(u₀)                    # assign initial condition to U\n",
    "    s = 2                                # counter for saved data\n",
    "    \n",
    "    # construct diagonal matrices for LHS and RHS linear operators\n",
    "    I   = ones(Nₓ)\n",
    "    A⁻¹ = (I - Δt/2*L).^(-1)             \n",
    "    B   = I + Δt/2*L\n",
    "    \n",
    "    # compute in-place FFTW plans\n",
    "    FFT!  = plan_fft!(uⁿ,  flags=FFTW.ESTIMATE)\n",
    "    IFFT! = plan_ifft!(uⁿ, flags=FFTW.ESTIMATE)\n",
    "\n",
    "    # initialize nonlinear terms \n",
    "    Nuⁿ  = G.*fft(uⁿ.^2)      # set Nuⁿ = -1/2 d/dx (uⁿ)² = -u uₓ \n",
    "    Nuⁿ⁻¹ = copy(Nuⁿ)         # set Nuⁿ⁻¹ = Nuⁿ for first time step\n",
    "    FFT!*uⁿ\n",
    "    \n",
    "    # timestepping loop\n",
    "    for n = 0:Nsteps-1\n",
    "        \n",
    "        Nuⁿ⁻¹ .= Nuⁿ        # shift nonlinear term in time\n",
    "        Nuⁿ  .= uⁿ         # store uⁿ in Nuⁿ in prep for collocation computation\n",
    "        \n",
    "        IFFT!*Nuⁿ          # transform to gridpt values of u\n",
    "        Nuⁿ .= Nuⁿ.*Nuⁿ    # collocation calculation of u²\n",
    "        FFT!*Nuⁿ           # transform u² back to spectral coeffs\n",
    "\n",
    "        Nuⁿ .= G .* Nuⁿ      # compute  Nuⁿ = -1/2 d/dx u² = -u uₓ\n",
    "\n",
    "        # Loop fusion! Julia unrolls this line into a single for-loop over vector elems,\n",
    "        # avoiding the generation and allocation of temporary vectors you'd get in Matlab\n",
    "        uⁿ .= A⁻¹ .* (B .* uⁿ .+ 3Δt/2 .* Nuⁿ .- Δt/2 .* Nuⁿ⁻¹)\n",
    "        \n",
    "        if mod(n, nsave) == 0\n",
    "            U[s,:] = real(ifft(uⁿ))  # save into return matrix U \n",
    "            s += 1            \n",
    "        end\n",
    "    end\n",
    "   \n",
    "    t,U\n",
    "end"
   ]
  },
  {
   "cell_type": "code",
   "execution_count": null,
   "metadata": {},
   "outputs": [],
   "source": [
    "\n",
    "# set discretization parameters\n",
    "Lx = 64π\n",
    "Nx = 1024\n",
    "Δt = 1/16\n",
    "nsave = 8\n",
    "Nsteps = 3200\n",
    "\n",
    "# set initial condition\n",
    "x = Lx*(0:Nx-1)/Nx\n",
    "u₀ = cos.(x) + 0.1*sin.(x/8) + 0.002*cos.(x/32);\n",
    "\n",
    "# compile the integrator function by running it one time step\n",
    "t,U = ksintegrate(u₀, Lx, Δt, 8, nsave)\n",
    "\n",
    "# integrate the PDE\n",
    "t,U = ksintegrate(u₀, Lx, Δt, Nsteps, nsave) \n",
    "\n",
    "# plot results\n",
    "heatmap(x,t, U, xlim=(x[1], x[end]), ylim=(t[1], t[end]), \n",
    "    xlabel=\"x\", ylabel=\"t\", title=\"u(x,t)\", fillcolor=:bluesreds\n",
    ")"
   ]
  },
  {
   "cell_type": "code",
   "execution_count": null,
   "metadata": {},
   "outputs": [],
   "source": [
    "# set discretization parameters\n",
    "Lx = 64π\n",
    "Nx = 1024\n",
    "Δt = 1/16\n",
    "nsave = 8\n",
    "Nsteps = 3200\n",
    "\n",
    "# set initial condition\n",
    "x = Lx*(0:Nx-1)/Nx\n",
    "u₀ = cos.(x) + 0.1*sin.(x/8) + 0.002*cos.(x/32);\n",
    "\n",
    "# compile the integrator function by running it one time step\n",
    "t,U = ksintegrate(u₀, Lx, Δt, 8, nsave)\n",
    "\n",
    "# integrate the PDE\n",
    "t,U = ksintegrate(u₀, Lx, Δt, Nsteps, nsave) \n",
    "\n",
    "# plot results\n",
    "heatmap(x,t, U, xlim=(x[1], x[end]), ylim=(t[1], t[end]), \n",
    "    xlabel=\"x\", ylabel=\"t\", title=\"u(x,t)\", fillcolor=:bluesreds\n",
    ")"
   ]
  },
  {
   "cell_type": "markdown",
   "metadata": {},
   "source": [
    "# 6. User defined types\n",
    "Exampled oryginaly by Andreas Noack [*Fast and Flexible Linear Algebra in Julia*](https://www.youtube.com/watch?v=VS0fnUOAKpI)."
   ]
  },
  {
   "cell_type": "markdown",
   "metadata": {},
   "source": [
    "Consider field $\\mathbb{Z} / p$ where $p$ is prime number. It is called Galois field $\\textrm{GF}( p )$, we now implemented it in Julia."
   ]
  },
  {
   "cell_type": "code",
   "execution_count": null,
   "metadata": {},
   "outputs": [],
   "source": [
    "# Type definiton\n",
    "struct GF{p, T} <: Number where {p, T<:Integer}\n",
    "    rep::T  # Representation: intyger which holds the value of element in GF(p)\n",
    "    \n",
    "    function GF{p, T}(x::Integer) where {p, T<:Integer}\n",
    "        return new(mod(x, p))\n",
    "    end\n",
    "end\n",
    "GF{p}(x::T) where {p, T<:Integer} = GF{p, T}(x)"
   ]
  },
  {
   "cell_type": "markdown",
   "metadata": {},
   "source": [
    "We now define some basic methods for $\\textrm{GF}( p )$ that all Julia Numbers must have."
   ]
  },
  {
   "cell_type": "code",
   "execution_count": null,
   "metadata": {},
   "outputs": [],
   "source": [
    "import Base: convert, inv, one, promote_rule, show, zero\n",
    "\n",
    "function call(::Type{GF{p}}, x::Integer) where p\n",
    "    if !isprime(p)\n",
    "        throw(ArgumentError(\"p must be prime\"))\n",
    "    end\n",
    "    return GF{p, typeof(x)}(mod(x, p))\n",
    "end\n",
    "\n",
    "convert(::Type{GF{p, T}}, x::Integer) where {p, T} = GF{p}(x)\n",
    "convert(::Type{GF{p}}, x::Integer) where p = GF{p}(x)\n",
    "convert(::Type{GF{p, T}}, x::GF{p}) where {p, T} = GF{p, T}(x.rep)\n",
    "promote_rule(::Type{GF{p, T1}}, ::Type{T2}) where {p, T1, T2<:Integer} = GF{p, promote_type(T1, T2)}\n",
    "\n",
    "# To be able show and print GF(p)\n",
    "show(io::IO, x::GF) = show(io, x.rep)"
   ]
  },
  {
   "cell_type": "markdown",
   "metadata": {},
   "source": [
    "Defining arithmetic operations on $\\textrm{GF}( p )$."
   ]
  },
  {
   "cell_type": "code",
   "execution_count": null,
   "metadata": {},
   "outputs": [],
   "source": [
    "GF{7}(9)"
   ]
  },
  {
   "cell_type": "code",
   "execution_count": null,
   "metadata": {
    "scrolled": true
   },
   "outputs": [],
   "source": [
    "GF{2}(4)"
   ]
  },
  {
   "cell_type": "code",
   "execution_count": null,
   "metadata": {
    "scrolled": true
   },
   "outputs": [],
   "source": [
    "typeof(GF{7}(0))"
   ]
  },
  {
   "cell_type": "code",
   "execution_count": null,
   "metadata": {},
   "outputs": [],
   "source": [
    "GF{4}(7)"
   ]
  },
  {
   "cell_type": "code",
   "execution_count": null,
   "metadata": {},
   "outputs": [],
   "source": [
    "typeof(GF{4}(5))"
   ]
  },
  {
   "cell_type": "code",
   "execution_count": null,
   "metadata": {},
   "outputs": [],
   "source": [
    "GF{4, 5}"
   ]
  },
  {
   "cell_type": "code",
   "execution_count": null,
   "metadata": {
    "scrolled": false
   },
   "outputs": [],
   "source": [
    "x = GF{3}(4)"
   ]
  },
  {
   "cell_type": "code",
   "execution_count": null,
   "metadata": {},
   "outputs": [],
   "source": [
    "x"
   ]
  },
  {
   "cell_type": "code",
   "execution_count": null,
   "metadata": {},
   "outputs": [],
   "source": [
    "typeof(x)"
   ]
  },
  {
   "cell_type": "code",
   "execution_count": null,
   "metadata": {},
   "outputs": [],
   "source": [
    "typeof(x.rep)"
   ]
  },
  {
   "cell_type": "code",
   "execution_count": null,
   "metadata": {},
   "outputs": [],
   "source": [
    "GF{7}(2) + GF{7}(5)"
   ]
  },
  {
   "cell_type": "code",
   "execution_count": null,
   "metadata": {},
   "outputs": [],
   "source": [
    "import Base: +\n",
    "\n",
    "+(x::GF{p, T}, y::GF{p, T}) where {p, T} = GF{p, T}(x.rep + y.rep)"
   ]
  },
  {
   "cell_type": "code",
   "execution_count": null,
   "metadata": {
    "scrolled": true
   },
   "outputs": [],
   "source": [
    "GF{7}(2) + GF{7}(5)"
   ]
  },
  {
   "cell_type": "markdown",
   "metadata": {},
   "source": [
    "We now use some eldritch metaprograming magic."
   ]
  },
  {
   "cell_type": "code",
   "execution_count": null,
   "metadata": {},
   "outputs": [],
   "source": [
    "import Base: -, *, isless\n",
    "\n",
    "for op in (:+, :-, :*, :isless)  # Loops over ops, defining each in terms of integer ops mod p\n",
    "    @eval begin\n",
    "        ($op)(x::GF{p, T}, y::GF{p, T}) where {p, T} = GF{p, T}($(op)(x.rep, y.rep))\n",
    "    end\n",
    "end"
   ]
  },
  {
   "cell_type": "markdown",
   "metadata": {},
   "source": [
    "We now definde inverse and divison $\\div$. This requariers more work, because dividing by zero throws error."
   ]
  },
  {
   "cell_type": "code",
   "execution_count": null,
   "metadata": {},
   "outputs": [],
   "source": [
    "import Base: /\n",
    "\n",
    "function inv(x::GF{p, T}) where {p, T}\n",
    "    if x == zero(x)\n",
    "        throw(DivideError())\n",
    "    end\n",
    "    r, u, v = gcdx(x.rep, p)\n",
    "    GF{p, T}(u)\n",
    "end\n",
    "(/)(x::GF{p}, y::GF{p}) where p = x * inv(y);\n",
    "abs(x::GF{p, T}) where {p, T} = x"
   ]
  },
  {
   "cell_type": "markdown",
   "metadata": {},
   "source": [
    "Some $\\textrm{GF}( 7 )$ arithmetics"
   ]
  },
  {
   "cell_type": "code",
   "execution_count": null,
   "metadata": {},
   "outputs": [],
   "source": [
    "GF{3}(5) / GF{3}(6)"
   ]
  },
  {
   "cell_type": "code",
   "execution_count": null,
   "metadata": {},
   "outputs": [],
   "source": [
    "x = GF{7}(9)   # x =  (9 mod 7) = 2\n",
    "y = GF{7}(12)  # y = (12 mod 7) = 5"
   ]
  },
  {
   "cell_type": "code",
   "execution_count": null,
   "metadata": {
    "scrolled": false
   },
   "outputs": [],
   "source": [
    "@show x\n",
    "@show y\n",
    "@show x + y  # (2 + 5) mod 7 = 0\n",
    "@show x - y  # (2 - 5) mod 7 = 4\n",
    "@show x * y  # (2 * 5) mod 7 = 3\n",
    "@show x / y  # (2 ÷ 5) mod 7 = 6, because 2 = (6 * 5) mod 7"
   ]
  },
  {
   "cell_type": "code",
   "execution_count": null,
   "metadata": {},
   "outputs": [],
   "source": [
    "x = [GF{7}(rand(0:6)) for i = 1:3]"
   ]
  },
  {
   "cell_type": "code",
   "execution_count": null,
   "metadata": {},
   "outputs": [],
   "source": [
    "y = [GF{7}(rand(0:6)) for i = 1:3]"
   ]
  },
  {
   "cell_type": "code",
   "execution_count": null,
   "metadata": {},
   "outputs": [],
   "source": [
    "x + y"
   ]
  },
  {
   "cell_type": "code",
   "execution_count": null,
   "metadata": {},
   "outputs": [],
   "source": [
    "x = [GF{7}(1) GF{7}(2) GF{7}(1)]"
   ]
  },
  {
   "cell_type": "code",
   "execution_count": null,
   "metadata": {},
   "outputs": [],
   "source": [
    "y = [GF{7}(3), GF{7}(2), GF{7}(2)]"
   ]
  },
  {
   "cell_type": "code",
   "execution_count": null,
   "metadata": {},
   "outputs": [],
   "source": [
    "y'"
   ]
  },
  {
   "cell_type": "code",
   "execution_count": null,
   "metadata": {},
   "outputs": [],
   "source": [
    "Base.conj(x::GF{p,T}) where {p,T} = x"
   ]
  },
  {
   "cell_type": "code",
   "execution_count": null,
   "metadata": {
    "scrolled": true
   },
   "outputs": [],
   "source": [
    "y'"
   ]
  },
  {
   "cell_type": "code",
   "execution_count": null,
   "metadata": {},
   "outputs": [],
   "source": [
    "subtypes(Number)"
   ]
  },
  {
   "cell_type": "code",
   "execution_count": null,
   "metadata": {},
   "outputs": [],
   "source": [
    "subtypes(Real)"
   ]
  },
  {
   "cell_type": "code",
   "execution_count": null,
   "metadata": {},
   "outputs": [],
   "source": [
    "subtypes(AbstractFloat)"
   ]
  },
  {
   "cell_type": "code",
   "execution_count": null,
   "metadata": {},
   "outputs": [],
   "source": [
    "subtypes(GF)"
   ]
  }
 ],
 "metadata": {
  "kernelspec": {
   "display_name": "Julia 1.0.2",
   "language": "julia",
   "name": "julia-1.0"
  },
  "language_info": {
   "file_extension": ".jl",
   "mimetype": "application/julia",
   "name": "julia",
   "version": "1.0.2"
  }
 },
 "nbformat": 4,
 "nbformat_minor": 2
}
